{
 "cells": [
  {
   "cell_type": "code",
   "execution_count": 2,
   "metadata": {
    "execution": {
     "iopub.execute_input": "2025-05-03T16:38:44.606159Z",
     "iopub.status.busy": "2025-05-03T16:38:44.605889Z",
     "iopub.status.idle": "2025-05-03T16:38:44.612191Z",
     "shell.execute_reply": "2025-05-03T16:38:44.611611Z",
     "shell.execute_reply.started": "2025-05-03T16:38:44.606132Z"
    },
    "trusted": true
   },
   "outputs": [
    {
     "name": "stdout",
     "output_type": "stream",
     "text": [
      "c:\\Users\\duong\\Downloads\\Deep_Learning-Based_Signature_Forgery_Detection_for_Personal_Identity_Authentication\n"
     ]
    },
    {
     "name": "stderr",
     "output_type": "stream",
     "text": [
      "C:\\Users\\duong\\AppData\\Roaming\\Python\\Python313\\site-packages\\IPython\\core\\magics\\osm.py:417: UserWarning: This is now an optional IPython functionality, setting dhist requires you to install the `pickleshare` library.\n",
      "  self.shell.db['dhist'] = compress_dhist(dhist)[-100:]\n"
     ]
    }
   ],
   "source": [
    "# Move to the directory where the notebook is located\n",
    "# and set directory to Deep_Learning-Based_Signature_Forgery_Detection_for_Personal_Identity_Authentication\n",
    "%cd .."
   ]
  },
  {
   "cell_type": "code",
   "execution_count": 3,
   "metadata": {},
   "outputs": [
    {
     "name": "stdout",
     "output_type": "stream",
     "text": [
      "c:\\Users\\duong\\Downloads\\Deep_Learning-Based_Signature_Forgery_Detection_for_Personal_Identity_Authentication\n"
     ]
    }
   ],
   "source": [
    "import os\n",
    "print(os.getcwd())"
   ]
  },
  {
   "cell_type": "markdown",
   "metadata": {},
   "source": [
    "# Model information"
   ]
  },
  {
   "cell_type": "code",
   "execution_count": 4,
   "metadata": {
    "execution": {
     "iopub.execute_input": "2025-05-03T16:38:44.613279Z",
     "iopub.status.busy": "2025-05-03T16:38:44.613014Z",
     "iopub.status.idle": "2025-05-03T16:39:58.401595Z",
     "shell.execute_reply": "2025-05-03T16:39:58.400907Z",
     "shell.execute_reply.started": "2025-05-03T16:38:44.613257Z"
    },
    "trusted": true
   },
   "outputs": [
    {
     "name": "stdout",
     "output_type": "stream",
     "text": [
      "Obtaining file:///C:/Users/duong/Downloads/Deep_Learning-Based_Signature_Forgery_Detection_for_Personal_Identity_Authentication\n",
      "  Installing build dependencies: started\n",
      "  Installing build dependencies: finished with status 'done'\n",
      "  Checking if build backend supports build_editable: started\n",
      "  Checking if build backend supports build_editable: finished with status 'done'\n",
      "  Getting requirements to build editable: started\n",
      "  Getting requirements to build editable: finished with status 'done'\n",
      "  Preparing editable metadata (pyproject.toml): started\n",
      "  Preparing editable metadata (pyproject.toml): finished with status 'done'\n",
      "Requirement already satisfied: pyyaml in c:\\users\\duong\\appdata\\local\\programs\\python\\python313\\lib\\site-packages (from signature_verification==0.1.0) (6.0.2)\n",
      "Requirement already satisfied: torch in c:\\users\\duong\\appdata\\local\\programs\\python\\python313\\lib\\site-packages (from signature_verification==0.1.0) (2.7.0)\n",
      "Requirement already satisfied: torchvision in c:\\users\\duong\\appdata\\local\\programs\\python\\python313\\lib\\site-packages (from signature_verification==0.1.0) (0.22.0)\n",
      "Requirement already satisfied: opencv-python in c:\\users\\duong\\appdata\\local\\programs\\python\\python313\\lib\\site-packages (from signature_verification==0.1.0) (4.11.0.86)\n",
      "Requirement already satisfied: numpy in c:\\users\\duong\\appdata\\local\\programs\\python\\python313\\lib\\site-packages (from signature_verification==0.1.0) (2.2.0)\n",
      "Requirement already satisfied: matplotlib in c:\\users\\duong\\appdata\\local\\programs\\python\\python313\\lib\\site-packages (from signature_verification==0.1.0) (3.9.3)\n",
      "Requirement already satisfied: scikit-learn in c:\\users\\duong\\appdata\\local\\programs\\python\\python313\\lib\\site-packages (from signature_verification==0.1.0) (1.6.1)\n",
      "Requirement already satisfied: kaggle in c:\\users\\duong\\appdata\\local\\programs\\python\\python313\\lib\\site-packages (from signature_verification==0.1.0) (1.7.4.2)\n",
      "Requirement already satisfied: kagglehub in c:\\users\\duong\\appdata\\local\\programs\\python\\python313\\lib\\site-packages (from signature_verification==0.1.0) (0.3.12)\n",
      "Requirement already satisfied: ipywidgets in c:\\users\\duong\\appdata\\local\\programs\\python\\python313\\lib\\site-packages (from signature_verification==0.1.0) (8.1.6)\n",
      "Requirement already satisfied: Pillow in c:\\users\\duong\\appdata\\local\\programs\\python\\python313\\lib\\site-packages (from signature_verification==0.1.0) (11.0.0)\n",
      "Requirement already satisfied: comm>=0.1.3 in c:\\users\\duong\\appdata\\roaming\\python\\python313\\site-packages (from ipywidgets->signature_verification==0.1.0) (0.2.2)\n",
      "Requirement already satisfied: ipython>=6.1.0 in c:\\users\\duong\\appdata\\roaming\\python\\python313\\site-packages (from ipywidgets->signature_verification==0.1.0) (8.30.0)\n",
      "Requirement already satisfied: traitlets>=4.3.1 in c:\\users\\duong\\appdata\\roaming\\python\\python313\\site-packages (from ipywidgets->signature_verification==0.1.0) (5.14.3)\n",
      "Requirement already satisfied: widgetsnbextension~=4.0.14 in c:\\users\\duong\\appdata\\local\\programs\\python\\python313\\lib\\site-packages (from ipywidgets->signature_verification==0.1.0) (4.0.14)\n",
      "Requirement already satisfied: jupyterlab_widgets~=3.0.14 in c:\\users\\duong\\appdata\\local\\programs\\python\\python313\\lib\\site-packages (from ipywidgets->signature_verification==0.1.0) (3.0.14)\n",
      "Requirement already satisfied: bleach in c:\\users\\duong\\appdata\\local\\programs\\python\\python313\\lib\\site-packages (from kaggle->signature_verification==0.1.0) (6.2.0)\n",
      "Requirement already satisfied: certifi>=14.05.14 in c:\\users\\duong\\appdata\\local\\programs\\python\\python313\\lib\\site-packages (from kaggle->signature_verification==0.1.0) (2025.4.26)\n",
      "Requirement already satisfied: charset-normalizer in c:\\users\\duong\\appdata\\local\\programs\\python\\python313\\lib\\site-packages (from kaggle->signature_verification==0.1.0) (3.4.2)\n",
      "Requirement already satisfied: idna in c:\\users\\duong\\appdata\\local\\programs\\python\\python313\\lib\\site-packages (from kaggle->signature_verification==0.1.0) (3.10)\n",
      "Requirement already satisfied: protobuf in c:\\users\\duong\\appdata\\local\\programs\\python\\python313\\lib\\site-packages (from kaggle->signature_verification==0.1.0) (6.30.2)\n",
      "Requirement already satisfied: python-dateutil>=2.5.3 in c:\\users\\duong\\appdata\\local\\programs\\python\\python313\\lib\\site-packages (from kaggle->signature_verification==0.1.0) (2.9.0.post0)\n",
      "Requirement already satisfied: python-slugify in c:\\users\\duong\\appdata\\local\\programs\\python\\python313\\lib\\site-packages (from kaggle->signature_verification==0.1.0) (8.0.4)\n",
      "Requirement already satisfied: requests in c:\\users\\duong\\appdata\\local\\programs\\python\\python313\\lib\\site-packages (from kaggle->signature_verification==0.1.0) (2.32.3)\n",
      "Requirement already satisfied: setuptools>=21.0.0 in c:\\users\\duong\\appdata\\local\\programs\\python\\python313\\lib\\site-packages (from kaggle->signature_verification==0.1.0) (77.0.3)\n",
      "Requirement already satisfied: six>=1.10 in c:\\users\\duong\\appdata\\local\\programs\\python\\python313\\lib\\site-packages (from kaggle->signature_verification==0.1.0) (1.17.0)\n",
      "Requirement already satisfied: text-unidecode in c:\\users\\duong\\appdata\\local\\programs\\python\\python313\\lib\\site-packages (from kaggle->signature_verification==0.1.0) (1.3)\n",
      "Requirement already satisfied: tqdm in c:\\users\\duong\\appdata\\local\\programs\\python\\python313\\lib\\site-packages (from kaggle->signature_verification==0.1.0) (4.67.1)\n",
      "Requirement already satisfied: urllib3>=1.15.1 in c:\\users\\duong\\appdata\\local\\programs\\python\\python313\\lib\\site-packages (from kaggle->signature_verification==0.1.0) (2.4.0)\n",
      "Requirement already satisfied: webencodings in c:\\users\\duong\\appdata\\local\\programs\\python\\python313\\lib\\site-packages (from kaggle->signature_verification==0.1.0) (0.5.1)\n",
      "Requirement already satisfied: packaging in c:\\users\\duong\\appdata\\local\\programs\\python\\python313\\lib\\site-packages (from kagglehub->signature_verification==0.1.0) (24.2)\n",
      "Requirement already satisfied: contourpy>=1.0.1 in c:\\users\\duong\\appdata\\local\\programs\\python\\python313\\lib\\site-packages (from matplotlib->signature_verification==0.1.0) (1.3.1)\n",
      "Requirement already satisfied: cycler>=0.10 in c:\\users\\duong\\appdata\\local\\programs\\python\\python313\\lib\\site-packages (from matplotlib->signature_verification==0.1.0) (0.12.1)\n",
      "Requirement already satisfied: fonttools>=4.22.0 in c:\\users\\duong\\appdata\\local\\programs\\python\\python313\\lib\\site-packages (from matplotlib->signature_verification==0.1.0) (4.55.2)\n",
      "Requirement already satisfied: kiwisolver>=1.3.1 in c:\\users\\duong\\appdata\\local\\programs\\python\\python313\\lib\\site-packages (from matplotlib->signature_verification==0.1.0) (1.4.7)\n",
      "Requirement already satisfied: pyparsing>=2.3.1 in c:\\users\\duong\\appdata\\local\\programs\\python\\python313\\lib\\site-packages (from matplotlib->signature_verification==0.1.0) (3.2.0)\n",
      "Requirement already satisfied: scipy>=1.6.0 in c:\\users\\duong\\appdata\\local\\programs\\python\\python313\\lib\\site-packages (from scikit-learn->signature_verification==0.1.0) (1.15.2)\n",
      "Requirement already satisfied: joblib>=1.2.0 in c:\\users\\duong\\appdata\\local\\programs\\python\\python313\\lib\\site-packages (from scikit-learn->signature_verification==0.1.0) (1.4.2)\n",
      "Requirement already satisfied: threadpoolctl>=3.1.0 in c:\\users\\duong\\appdata\\local\\programs\\python\\python313\\lib\\site-packages (from scikit-learn->signature_verification==0.1.0) (3.6.0)\n",
      "Requirement already satisfied: filelock in c:\\users\\duong\\appdata\\local\\programs\\python\\python313\\lib\\site-packages (from torch->signature_verification==0.1.0) (3.18.0)\n",
      "Requirement already satisfied: typing-extensions>=4.10.0 in c:\\users\\duong\\appdata\\local\\programs\\python\\python313\\lib\\site-packages (from torch->signature_verification==0.1.0) (4.12.2)\n",
      "Requirement already satisfied: sympy>=1.13.3 in c:\\users\\duong\\appdata\\local\\programs\\python\\python313\\lib\\site-packages (from torch->signature_verification==0.1.0) (1.14.0)\n",
      "Requirement already satisfied: networkx in c:\\users\\duong\\appdata\\local\\programs\\python\\python313\\lib\\site-packages (from torch->signature_verification==0.1.0) (3.4.2)\n",
      "Requirement already satisfied: jinja2 in c:\\users\\duong\\appdata\\local\\programs\\python\\python313\\lib\\site-packages (from torch->signature_verification==0.1.0) (3.1.6)\n",
      "Requirement already satisfied: fsspec in c:\\users\\duong\\appdata\\local\\programs\\python\\python313\\lib\\site-packages (from torch->signature_verification==0.1.0) (2025.3.0)\n",
      "Requirement already satisfied: colorama in c:\\users\\duong\\appdata\\roaming\\python\\python313\\site-packages (from ipython>=6.1.0->ipywidgets->signature_verification==0.1.0) (0.4.6)\n",
      "Requirement already satisfied: decorator in c:\\users\\duong\\appdata\\roaming\\python\\python313\\site-packages (from ipython>=6.1.0->ipywidgets->signature_verification==0.1.0) (5.1.1)\n",
      "Requirement already satisfied: jedi>=0.16 in c:\\users\\duong\\appdata\\roaming\\python\\python313\\site-packages (from ipython>=6.1.0->ipywidgets->signature_verification==0.1.0) (0.19.2)\n",
      "Requirement already satisfied: matplotlib-inline in c:\\users\\duong\\appdata\\roaming\\python\\python313\\site-packages (from ipython>=6.1.0->ipywidgets->signature_verification==0.1.0) (0.1.7)\n",
      "Requirement already satisfied: prompt_toolkit<3.1.0,>=3.0.41 in c:\\users\\duong\\appdata\\roaming\\python\\python313\\site-packages (from ipython>=6.1.0->ipywidgets->signature_verification==0.1.0) (3.0.48)\n",
      "Requirement already satisfied: pygments>=2.4.0 in c:\\users\\duong\\appdata\\roaming\\python\\python313\\site-packages (from ipython>=6.1.0->ipywidgets->signature_verification==0.1.0) (2.18.0)\n",
      "Requirement already satisfied: stack_data in c:\\users\\duong\\appdata\\roaming\\python\\python313\\site-packages (from ipython>=6.1.0->ipywidgets->signature_verification==0.1.0) (0.6.3)\n",
      "Requirement already satisfied: mpmath<1.4,>=1.1.0 in c:\\users\\duong\\appdata\\local\\programs\\python\\python313\\lib\\site-packages (from sympy>=1.13.3->torch->signature_verification==0.1.0) (1.3.0)\n",
      "Requirement already satisfied: MarkupSafe>=2.0 in c:\\users\\duong\\appdata\\local\\programs\\python\\python313\\lib\\site-packages (from jinja2->torch->signature_verification==0.1.0) (3.0.2)\n",
      "Requirement already satisfied: parso<0.9.0,>=0.8.4 in c:\\users\\duong\\appdata\\roaming\\python\\python313\\site-packages (from jedi>=0.16->ipython>=6.1.0->ipywidgets->signature_verification==0.1.0) (0.8.4)\n",
      "Requirement already satisfied: wcwidth in c:\\users\\duong\\appdata\\roaming\\python\\python313\\site-packages (from prompt_toolkit<3.1.0,>=3.0.41->ipython>=6.1.0->ipywidgets->signature_verification==0.1.0) (0.2.13)\n",
      "Requirement already satisfied: executing>=1.2.0 in c:\\users\\duong\\appdata\\roaming\\python\\python313\\site-packages (from stack_data->ipython>=6.1.0->ipywidgets->signature_verification==0.1.0) (2.1.0)\n",
      "Requirement already satisfied: asttokens>=2.1.0 in c:\\users\\duong\\appdata\\roaming\\python\\python313\\site-packages (from stack_data->ipython>=6.1.0->ipywidgets->signature_verification==0.1.0) (3.0.0)\n",
      "Requirement already satisfied: pure-eval in c:\\users\\duong\\appdata\\roaming\\python\\python313\\site-packages (from stack_data->ipython>=6.1.0->ipywidgets->signature_verification==0.1.0) (0.2.3)\n",
      "Building wheels for collected packages: signature_verification\n",
      "  Building editable for signature_verification (pyproject.toml): started\n",
      "  Building editable for signature_verification (pyproject.toml): finished with status 'done'\n",
      "  Created wheel for signature_verification: filename=signature_verification-0.1.0-0.editable-py3-none-any.whl size=3201 sha256=ace7e609ec36b7ec96c7b2189fb1141ff013957808a7f5f266ec55321fac4e12\n",
      "  Stored in directory: C:\\Users\\duong\\AppData\\Local\\Temp\\pip-ephem-wheel-cache-ozemiuyz\\wheels\\bb\\5f\\60\\9bfd4d91d8399f0129cc44b7757dfa673625735cd7d6df80e6\n",
      "Successfully built signature_verification\n",
      "Installing collected packages: signature_verification\n",
      "  Attempting uninstall: signature_verification\n",
      "    Found existing installation: signature_verification 0.1.0\n",
      "    Uninstalling signature_verification-0.1.0:\n",
      "      Successfully uninstalled signature_verification-0.1.0\n",
      "Successfully installed signature_verification-0.1.0\n"
     ]
    },
    {
     "name": "stderr",
     "output_type": "stream",
     "text": [
      "\n",
      "[notice] A new release of pip is available: 24.3.1 -> 25.1.1\n",
      "[notice] To update, run: python.exe -m pip install --upgrade pip\n"
     ]
    }
   ],
   "source": [
    "# Đảm bảo đang ở Deep_Learning-Based_Signature_Forgery_Detection_for_Personal_Identity_Authentication\n",
    "# Cài đặt package\n",
    "!pip install -e ."
   ]
  },
  {
   "cell_type": "code",
   "execution_count": 5,
   "metadata": {
    "execution": {
     "iopub.execute_input": "2025-05-03T16:39:58.403921Z",
     "iopub.status.busy": "2025-05-03T16:39:58.403708Z",
     "iopub.status.idle": "2025-05-03T16:40:03.306362Z",
     "shell.execute_reply": "2025-05-03T16:40:03.305766Z",
     "shell.execute_reply.started": "2025-05-03T16:39:58.403901Z"
    },
    "trusted": true
   },
   "outputs": [
    {
     "name": "stdout",
     "output_type": "stream",
     "text": [
      "Package installed and imported successfully!\n"
     ]
    }
   ],
   "source": [
    "# Import module\n",
    "from utils.helpers import load_config,get_model_from_Kaggle,load_model\n",
    "print(\"Package installed and imported successfully!\")"
   ]
  },
  {
   "cell_type": "code",
   "execution_count": 6,
   "metadata": {
    "execution": {
     "iopub.execute_input": "2025-05-03T16:40:04.762220Z",
     "iopub.status.busy": "2025-05-03T16:40:04.762015Z",
     "iopub.status.idle": "2025-05-03T16:40:04.768925Z",
     "shell.execute_reply": "2025-05-03T16:40:04.768110Z",
     "shell.execute_reply.started": "2025-05-03T16:40:04.762204Z"
    },
    "trusted": true
   },
   "outputs": [
    {
     "name": "stdout",
     "output_type": "stream",
     "text": [
      "{'model': {'name': 'siamese', 'backbone': 'resnet18', 'feature_dim': 512, 'kaggle_handle': 'giahuytranviet/siamese-verification-model/pyTorch/default'}, 'training': {'batch_size': 32, 'learning_rate': 0.001, 'optimizer': 'adam', 'num_epochs': 50, 'margin': 0.5, 'scheduler': 'cosine'}, 'dataset': {'original_data_path': None, 'forgeries_data_path': None, 'input_size': [220, 150]}, 'device': 'cuda', 'logging': {'log_dir': './logs/', 'checkpoint_dir': './checkpoints/', 'save_freq': 5}}\n"
     ]
    }
   ],
   "source": [
    "#Config information\n",
    "config = load_config('configs/config_siamese.yaml')\n",
    "print(config)"
   ]
  },
  {
   "cell_type": "markdown",
   "metadata": {},
   "source": [
    "# Test Model"
   ]
  },
  {
   "cell_type": "markdown",
   "metadata": {},
   "source": [
    "## Data import"
   ]
  },
  {
   "cell_type": "code",
   "execution_count": 40,
   "metadata": {},
   "outputs": [],
   "source": [
    "import kagglehub\n",
    "import random\n",
    "import numpy as np"
   ]
  },
  {
   "cell_type": "code",
   "execution_count": 16,
   "metadata": {},
   "outputs": [
    {
     "name": "stdout",
     "output_type": "stream",
     "text": [
      "Downloading from https://www.kaggle.com/api/v1/datasets/download/divyanshrai/handwritten-signatures?dataset_version_number=2...\n"
     ]
    },
    {
     "name": "stderr",
     "output_type": "stream",
     "text": [
      "100%|██████████| 370M/370M [00:14<00:00, 26.6MB/s] "
     ]
    },
    {
     "name": "stdout",
     "output_type": "stream",
     "text": [
      "Extracting files...\n"
     ]
    },
    {
     "name": "stderr",
     "output_type": "stream",
     "text": [
      "\n"
     ]
    },
    {
     "name": "stdout",
     "output_type": "stream",
     "text": [
      "Path to dataset files [divyanshrai]: C:\\Users\\duong\\.cache\\kagglehub\\datasets\\divyanshrai\\handwritten-signatures\\versions\\2\n"
     ]
    }
   ],
   "source": [
    "pathA = kagglehub.dataset_download(\"divyanshrai/handwritten-signatures\")\n",
    "print(\"Path to dataset files [divyanshrai]:\", pathA) #dataset A"
   ]
  },
  {
   "cell_type": "markdown",
   "metadata": {},
   "source": [
    "## Preprocess Data Name"
   ]
  },
  {
   "cell_type": "code",
   "execution_count": 20,
   "metadata": {},
   "outputs": [],
   "source": [
    "folder_path = r'C:\\Users\\duong\\.cache\\kagglehub\\datasets\\divyanshrai\\handwritten-signatures\\versions\\2\\sample_Signature\\sample_Signature\\genuine'"
   ]
  },
  {
   "cell_type": "code",
   "execution_count": 21,
   "metadata": {},
   "outputs": [],
   "source": [
    "from collections import defaultdict\n",
    "\n",
    "class preprocessor(str):\n",
    "    def __init__(self, path):\n",
    "        self.path = path\n",
    "        self.id_counter = defaultdict(int) \n",
    "\n",
    "    def _rename_file(self, file):\n",
    "        id1 = int(file[4:7]) # str - 3 chữ số đầu xxx\n",
    "        id2 = int(file[7:9]) # str - 2 chữ số giữa yy\n",
    "        id3 = int(file[9:12]) #str - 3 chữ số cuối zzz\n",
    "\n",
    "        if 'forged' in self.path:\n",
    "            self.id_counter[id3] += 1\n",
    "            new_name = f\"forgeries_{id3}_{self.id_counter[id3]}.png\"\n",
    "        \n",
    "        elif 'genuine' in self.path:\n",
    "            new_name = f\"original_{id1}_{id2}.png\"\n",
    "        return new_name\n",
    "\n",
    "    # Đổi tên các file trong thư mục\n",
    "    def do_rename(self):\n",
    "        files = sorted(os.listdir(self.path)) \n",
    "\n",
    "        for file in files:\n",
    "            new_file = self._rename_file(file)\n",
    "\n",
    "            old_path = os.path.join(self.path, file)\n",
    "            new_path = os.path.join(self.path, new_file)\n",
    "\n",
    "            print(f\"Đổi {file} → {new_file}\")\n",
    "            os.rename(old_path, new_path)"
   ]
  },
  {
   "cell_type": "code",
   "execution_count": 22,
   "metadata": {},
   "outputs": [
    {
     "name": "stdout",
     "output_type": "stream",
     "text": [
      "Đổi NFI-00101001.png → original_1_1.png\n",
      "Đổi NFI-00102001.png → original_1_2.png\n",
      "Đổi NFI-00103001.png → original_1_3.png\n",
      "Đổi NFI-00104001.png → original_1_4.png\n",
      "Đổi NFI-00105001.png → original_1_5.png\n",
      "Đổi NFI-00201002.png → original_2_1.png\n",
      "Đổi NFI-00202002.png → original_2_2.png\n",
      "Đổi NFI-00203002.png → original_2_3.png\n",
      "Đổi NFI-00204002.png → original_2_4.png\n",
      "Đổi NFI-00205002.png → original_2_5.png\n",
      "Đổi NFI-00301003.png → original_3_1.png\n",
      "Đổi NFI-00302003.png → original_3_2.png\n",
      "Đổi NFI-00303003.png → original_3_3.png\n",
      "Đổi NFI-00304003.png → original_3_4.png\n",
      "Đổi NFI-00305003.png → original_3_5.png\n",
      "Đổi NFI-00401004.png → original_4_1.png\n",
      "Đổi NFI-00402004.png → original_4_2.png\n",
      "Đổi NFI-00403004.png → original_4_3.png\n",
      "Đổi NFI-00404004.png → original_4_4.png\n",
      "Đổi NFI-00405004.png → original_4_5.png\n",
      "Đổi NFI-00501005.png → original_5_1.png\n",
      "Đổi NFI-00502005.png → original_5_2.png\n",
      "Đổi NFI-00503005.png → original_5_3.png\n",
      "Đổi NFI-00504005.png → original_5_4.png\n",
      "Đổi NFI-00505005.png → original_5_5.png\n",
      "Đổi NFI-00601006.png → original_6_1.png\n",
      "Đổi NFI-00602006.png → original_6_2.png\n",
      "Đổi NFI-00603006.png → original_6_3.png\n",
      "Đổi NFI-00604006.png → original_6_4.png\n",
      "Đổi NFI-00605006.png → original_6_5.png\n",
      "Đổi NFI-00701007.png → original_7_1.png\n",
      "Đổi NFI-00702007.png → original_7_2.png\n",
      "Đổi NFI-00703007.png → original_7_3.png\n",
      "Đổi NFI-00704007.png → original_7_4.png\n",
      "Đổi NFI-00705007.png → original_7_5.png\n",
      "Đổi NFI-00801008.png → original_8_1.png\n",
      "Đổi NFI-00802008.png → original_8_2.png\n",
      "Đổi NFI-00803008.png → original_8_3.png\n",
      "Đổi NFI-00804008.png → original_8_4.png\n",
      "Đổi NFI-00805008.png → original_8_5.png\n",
      "Đổi NFI-00901009.png → original_9_1.png\n",
      "Đổi NFI-00902009.png → original_9_2.png\n",
      "Đổi NFI-00903009.png → original_9_3.png\n",
      "Đổi NFI-00904009.png → original_9_4.png\n",
      "Đổi NFI-00905009.png → original_9_5.png\n",
      "Đổi NFI-01001010.png → original_10_1.png\n",
      "Đổi NFI-01002010.png → original_10_2.png\n",
      "Đổi NFI-01003010.png → original_10_3.png\n",
      "Đổi NFI-01004010.png → original_10_4.png\n",
      "Đổi NFI-01005010.png → original_10_5.png\n",
      "Đổi NFI-01101011.png → original_11_1.png\n",
      "Đổi NFI-01102011.png → original_11_2.png\n",
      "Đổi NFI-01103011.png → original_11_3.png\n",
      "Đổi NFI-01104011.png → original_11_4.png\n",
      "Đổi NFI-01105011.png → original_11_5.png\n",
      "Đổi NFI-01201012.png → original_12_1.png\n",
      "Đổi NFI-01202012.png → original_12_2.png\n",
      "Đổi NFI-01203012.png → original_12_3.png\n",
      "Đổi NFI-01204012.png → original_12_4.png\n",
      "Đổi NFI-01205012.png → original_12_5.png\n",
      "Đổi NFI-01301013.png → original_13_1.png\n",
      "Đổi NFI-01302013.png → original_13_2.png\n",
      "Đổi NFI-01303013.png → original_13_3.png\n",
      "Đổi NFI-01304013.png → original_13_4.png\n",
      "Đổi NFI-01305013.png → original_13_5.png\n",
      "Đổi NFI-01401014.png → original_14_1.png\n",
      "Đổi NFI-01402014.png → original_14_2.png\n",
      "Đổi NFI-01403014.png → original_14_3.png\n",
      "Đổi NFI-01404014.png → original_14_4.png\n",
      "Đổi NFI-01405014.png → original_14_5.png\n",
      "Đổi NFI-01501015.png → original_15_1.png\n",
      "Đổi NFI-01502015.png → original_15_2.png\n",
      "Đổi NFI-01503015.png → original_15_3.png\n",
      "Đổi NFI-01504015.png → original_15_4.png\n",
      "Đổi NFI-01505015.png → original_15_5.png\n",
      "Đổi NFI-01601016.png → original_16_1.png\n",
      "Đổi NFI-01602016.png → original_16_2.png\n",
      "Đổi NFI-01603016.png → original_16_3.png\n",
      "Đổi NFI-01604016.png → original_16_4.png\n",
      "Đổi NFI-01605016.png → original_16_5.png\n",
      "Đổi NFI-01701017.png → original_17_1.png\n",
      "Đổi NFI-01702017.png → original_17_2.png\n",
      "Đổi NFI-01703017.png → original_17_3.png\n",
      "Đổi NFI-01704017.png → original_17_4.png\n",
      "Đổi NFI-01705017.png → original_17_5.png\n",
      "Đổi NFI-01801018.png → original_18_1.png\n",
      "Đổi NFI-01802018.png → original_18_2.png\n",
      "Đổi NFI-01803018.png → original_18_3.png\n",
      "Đổi NFI-01804018.png → original_18_4.png\n",
      "Đổi NFI-01805018.png → original_18_5.png\n",
      "Đổi NFI-01901019.png → original_19_1.png\n",
      "Đổi NFI-01902019.png → original_19_2.png\n",
      "Đổi NFI-01903019.png → original_19_3.png\n",
      "Đổi NFI-01904019.png → original_19_4.png\n",
      "Đổi NFI-01905019.png → original_19_5.png\n",
      "Đổi NFI-02001020.png → original_20_1.png\n",
      "Đổi NFI-02002020.png → original_20_2.png\n",
      "Đổi NFI-02003020.png → original_20_3.png\n",
      "Đổi NFI-02004020.png → original_20_4.png\n",
      "Đổi NFI-02005020.png → original_20_5.png\n",
      "Đổi NFI-02101021.png → original_21_1.png\n",
      "Đổi NFI-02102021.png → original_21_2.png\n",
      "Đổi NFI-02103021.png → original_21_3.png\n",
      "Đổi NFI-02104021.png → original_21_4.png\n",
      "Đổi NFI-02105021.png → original_21_5.png\n",
      "Đổi NFI-02201022.png → original_22_1.png\n",
      "Đổi NFI-02202022.png → original_22_2.png\n",
      "Đổi NFI-02203022.png → original_22_3.png\n",
      "Đổi NFI-02204022.png → original_22_4.png\n",
      "Đổi NFI-02205022.png → original_22_5.png\n",
      "Đổi NFI-02301023.png → original_23_1.png\n",
      "Đổi NFI-02302023.png → original_23_2.png\n",
      "Đổi NFI-02303023.png → original_23_3.png\n",
      "Đổi NFI-02304023.png → original_23_4.png\n",
      "Đổi NFI-02305023.png → original_23_5.png\n",
      "Đổi NFI-02401024.png → original_24_1.png\n",
      "Đổi NFI-02402024.png → original_24_2.png\n",
      "Đổi NFI-02403024.png → original_24_3.png\n",
      "Đổi NFI-02404024.png → original_24_4.png\n",
      "Đổi NFI-02405024.png → original_24_5.png\n",
      "Đổi NFI-02501025.PNG → original_25_1.png\n",
      "Đổi NFI-02502025.PNG → original_25_2.png\n",
      "Đổi NFI-02503025.PNG → original_25_3.png\n",
      "Đổi NFI-02504025.PNG → original_25_4.png\n",
      "Đổi NFI-02505025.PNG → original_25_5.png\n",
      "Đổi NFI-02601026.PNG → original_26_1.png\n",
      "Đổi NFI-02602026.PNG → original_26_2.png\n",
      "Đổi NFI-02603026.PNG → original_26_3.png\n",
      "Đổi NFI-02604026.PNG → original_26_4.png\n",
      "Đổi NFI-02605026.PNG → original_26_5.png\n",
      "Đổi NFI-02701027.PNG → original_27_1.png\n",
      "Đổi NFI-02702027.PNG → original_27_2.png\n",
      "Đổi NFI-02703027.PNG → original_27_3.png\n",
      "Đổi NFI-02704027.PNG → original_27_4.png\n",
      "Đổi NFI-02705027.PNG → original_27_5.png\n",
      "Đổi NFI-02801028.PNG → original_28_1.png\n",
      "Đổi NFI-02802028.PNG → original_28_2.png\n",
      "Đổi NFI-02803028.PNG → original_28_3.png\n",
      "Đổi NFI-02804028.PNG → original_28_4.png\n",
      "Đổi NFI-02805028.PNG → original_28_5.png\n",
      "Đổi NFI-02901029.PNG → original_29_1.png\n",
      "Đổi NFI-02902029.PNG → original_29_2.png\n",
      "Đổi NFI-02903029.PNG → original_29_3.png\n",
      "Đổi NFI-02904029.PNG → original_29_4.png\n",
      "Đổi NFI-02905029.PNG → original_29_5.png\n",
      "Đổi NFI-03001030.PNG → original_30_1.png\n",
      "Đổi NFI-03002030.PNG → original_30_2.png\n",
      "Đổi NFI-03003030.PNG → original_30_3.png\n",
      "Đổi NFI-03004030.PNG → original_30_4.png\n",
      "Đổi NFI-03005030.PNG → original_30_5.png\n"
     ]
    }
   ],
   "source": [
    "test = preprocessor(folder_path)\n",
    "test.do_rename()"
   ]
  },
  {
   "cell_type": "code",
   "execution_count": 46,
   "metadata": {},
   "outputs": [
    {
     "name": "stdout",
     "output_type": "stream",
     "text": [
      "Number of writers: 30\n",
      "Writer 10: 5 genuine, 5 forged\n",
      "Writer 11: 5 genuine, 5 forged\n",
      "Writer 12: 5 genuine, 5 forged\n",
      "Writer 13: 5 genuine, 5 forged\n",
      "Writer 14: 5 genuine, 5 forged\n",
      "Built 500 pairs: 250 genuine-genuine, 250 genuine-forged\n"
     ]
    }
   ],
   "source": [
    "dataset = r'C:\\Users\\duong\\.cache\\kagglehub\\datasets\\divyanshrai\\handwritten-signatures\\versions\\2\\sample_Signature\\sample_Signature'\n",
    "\n",
    "genuines_dir = dataset + r'\\genuine'\n",
    "forgery_dir = dataset + r'\\forged'\n",
    "\n",
    "# Preprocess data: Organize signatures by writer ID\n",
    "writers = defaultdict(lambda: {'genuine': [], 'forged': []})\n",
    "\n",
    "# Parse genuine signatures\n",
    "for fname in os.listdir(genuines_dir):\n",
    "    if fname.lower().endswith(('.png', '.jpg', '.jpeg')):\n",
    "        parts = fname.split('_')\n",
    "        if len(parts) == 3 and parts[0] == 'original':\n",
    "            writer_id = parts[1]  # e.g., '001' from 'original_001_01.png'\n",
    "            writers[writer_id]['genuine'].append(os.path.join(genuines_dir, fname))\n",
    "\n",
    "# Parse forged signatures\n",
    "for fname in os.listdir(forgery_dir):\n",
    "    if fname.lower().endswith(('.png', '.jpg', '.jpeg')):\n",
    "        parts = fname.split('_')\n",
    "        if len(parts) == 3 and parts[0] == 'forgeries':\n",
    "            writer_id = parts[1]  # e.g., '001' from 'forgery_001_01.png'\n",
    "            writers[writer_id]['forged'].append(os.path.join(forgery_dir, fname))\n",
    "\n",
    "print(f\"Number of writers: {len(writers)}\")\n",
    "for writer_id, data in list(writers.items())[:5]:  # Print sample\n",
    "    print(f\"Writer {writer_id}: {len(data['genuine'])} genuine, {len(data['forged'])} forged\")\n",
    "\n",
    "# Create pairs for evaluation (500 pairs: 250 genuine-genuine, 250 genuine-forged)\n",
    "pair_count = 500\n",
    "pairs, labels = [], []\n",
    "half = pair_count // 2\n",
    "same = diff = 0\n",
    "\n",
    "# Genuine-genuine pairs\n",
    "for writer_id, imgs in writers.items():\n",
    "    while same < half and len(imgs['genuine']) >= 2:\n",
    "        a, b = random.sample(imgs['genuine'], 2)\n",
    "        pairs.append((a, b))\n",
    "        labels.append(1)\n",
    "        same += 1\n",
    "\n",
    "# Genuine-forged pairs\n",
    "for writer_id, imgs in writers.items():\n",
    "    while diff < half and imgs['genuine'] and imgs['forged']:\n",
    "        a = random.choice(imgs['genuine'])\n",
    "        b = random.choice(imgs['forged'])\n",
    "        pairs.append((a, b))\n",
    "        labels.append(0)\n",
    "        diff += 1\n",
    "\n",
    "print(f\"Built {len(pairs)} pairs: {same} genuine-genuine, {diff} genuine-forged\")"
   ]
  },
  {
   "cell_type": "markdown",
   "metadata": {},
   "source": [
    "## Statistics  & Model import"
   ]
  },
  {
   "cell_type": "code",
   "execution_count": 47,
   "metadata": {},
   "outputs": [],
   "source": [
    "from sklearn import metrics\n",
    "from sklearn.metrics import accuracy_score, f1_score\n",
    "from sklearn.metrics import recall_score, precision_score\n",
    "from sklearn.metrics import roc_auc_score"
   ]
  },
  {
   "cell_type": "code",
   "execution_count": 48,
   "metadata": {},
   "outputs": [],
   "source": [
    "from losses.contrastive_loss import ContrastiveLoss\n",
    "from models.siamese_network import SiameseNetwork\n",
    "from datasets.siamese_dataloader import SiameseSignatureDataset"
   ]
  },
  {
   "cell_type": "markdown",
   "metadata": {},
   "source": [
    "## Prepare Data"
   ]
  },
  {
   "cell_type": "code",
   "execution_count": 49,
   "metadata": {},
   "outputs": [],
   "source": [
    "import torchvision.transforms as transforms\n",
    "import torch.optim as optim\n",
    "import torch.nn.functional as F\n",
    "import torch\n",
    "from torch.utils.data import DataLoader\n",
    "\n",
    "seed = 42\n",
    "random.seed(seed)\n",
    "np.random.seed(seed)\n",
    "torch.manual_seed(seed)\n",
    "torch.cuda.manual_seed_all(seed)\n",
    "torch.backends.cudnn.deterministic = True\n",
    "torch.backends.cudnn.benchmark = False"
   ]
  },
  {
   "cell_type": "code",
   "execution_count": 52,
   "metadata": {},
   "outputs": [],
   "source": [
    "# Transform chung\n",
    "transform = transforms.Compose([\n",
    "    transforms.Resize((220, 150)),\n",
    "    transforms.Grayscale(),  # Đảm bảo ảnh 1 kênh\n",
    "    transforms.ToTensor(),\n",
    "    transforms.Lambda(lambda x: x.repeat(3, 1, 1)),  # 1 kênh -> 3 kênh\n",
    "    transforms.Normalize(mean=[0.5, 0.5, 0.5], std=[0.5, 0.5, 0.5])\n",
    "])\n",
    "\n",
    "# Tạo dataset\n",
    "siamese_test_set = SiameseSignatureDataset(\n",
    "    org_dir=r'C:\\Users\\duong\\.cache\\kagglehub\\datasets\\divyanshrai\\handwritten-signatures\\versions\\2\\sample_Signature\\sample_Signature\\genuine',\n",
    "    forg_dir=r'C:\\Users\\duong\\.cache\\kagglehub\\datasets\\divyanshrai\\handwritten-signatures\\versions\\2\\sample_Signature\\sample_Signature\\forged',\n",
    "    transform=transform\n",
    ")\n",
    "\n",
    "siamese_test_loader = DataLoader(siamese_test_set, num_workers=0, batch_size=32, shuffle=True)"
   ]
  },
  {
   "cell_type": "code",
   "execution_count": 53,
   "metadata": {},
   "outputs": [
    {
     "name": "stdout",
     "output_type": "stream",
     "text": [
      "Siamese Dataset - Total pairs: 449\n",
      "Pair shape: torch.Size([3, 220, 150]), torch.Size([3, 220, 150])\n",
      "Label: 1.0\n"
     ]
    }
   ],
   "source": [
    "# Kiểm tra Siamese Dataset\n",
    "print(f\"Siamese Dataset - Total pairs: {len(siamese_test_set)}\")\n",
    "sample_pair, label = siamese_test_set[0]\n",
    "print(f\"Pair shape: {sample_pair[0].shape}, {sample_pair[1].shape}\")\n",
    "print(f\"Label: {label}\")"
   ]
  },
  {
   "cell_type": "code",
   "execution_count": 54,
   "metadata": {},
   "outputs": [
    {
     "name": "stderr",
     "output_type": "stream",
     "text": [
      "c:\\Users\\duong\\AppData\\Local\\Programs\\Python\\Python313\\Lib\\site-packages\\torchvision\\models\\_utils.py:208: UserWarning: The parameter 'pretrained' is deprecated since 0.13 and may be removed in the future, please use 'weights' instead.\n",
      "  warnings.warn(\n",
      "c:\\Users\\duong\\AppData\\Local\\Programs\\Python\\Python313\\Lib\\site-packages\\torchvision\\models\\_utils.py:223: UserWarning: Arguments other than a weight enum or `None` for 'weights' are deprecated since 0.13 and may be removed in the future. The current behavior is equivalent to passing `weights=ResNet18_Weights.IMAGENET1K_V1`. You can also use `weights=ResNet18_Weights.DEFAULT` to get the most up-to-date weights.\n",
      "  warnings.warn(msg)\n"
     ]
    },
    {
     "name": "stdout",
     "output_type": "stream",
     "text": [
      "Model loaded successfully\n",
      "Model loaded from C:\\Users\\duong\\.cache\\kagglehub\\models\\giahuytranviet\\siamese-verification-model\\pyTorch\\default\\1\n"
     ]
    },
    {
     "data": {
      "text/plain": [
       "SiameseNetwork(\n",
       "  (feature_extractor): ResNetFeatureExtractor(\n",
       "    (backbone): ResNet(\n",
       "      (conv1): Conv2d(3, 64, kernel_size=(7, 7), stride=(2, 2), padding=(3, 3), bias=False)\n",
       "      (bn1): BatchNorm2d(64, eps=1e-05, momentum=0.1, affine=True, track_running_stats=True)\n",
       "      (relu): ReLU(inplace=True)\n",
       "      (maxpool): MaxPool2d(kernel_size=3, stride=2, padding=1, dilation=1, ceil_mode=False)\n",
       "      (layer1): Sequential(\n",
       "        (0): BasicBlock(\n",
       "          (conv1): Conv2d(64, 64, kernel_size=(3, 3), stride=(1, 1), padding=(1, 1), bias=False)\n",
       "          (bn1): BatchNorm2d(64, eps=1e-05, momentum=0.1, affine=True, track_running_stats=True)\n",
       "          (relu): ReLU(inplace=True)\n",
       "          (conv2): Conv2d(64, 64, kernel_size=(3, 3), stride=(1, 1), padding=(1, 1), bias=False)\n",
       "          (bn2): BatchNorm2d(64, eps=1e-05, momentum=0.1, affine=True, track_running_stats=True)\n",
       "        )\n",
       "        (1): BasicBlock(\n",
       "          (conv1): Conv2d(64, 64, kernel_size=(3, 3), stride=(1, 1), padding=(1, 1), bias=False)\n",
       "          (bn1): BatchNorm2d(64, eps=1e-05, momentum=0.1, affine=True, track_running_stats=True)\n",
       "          (relu): ReLU(inplace=True)\n",
       "          (conv2): Conv2d(64, 64, kernel_size=(3, 3), stride=(1, 1), padding=(1, 1), bias=False)\n",
       "          (bn2): BatchNorm2d(64, eps=1e-05, momentum=0.1, affine=True, track_running_stats=True)\n",
       "        )\n",
       "      )\n",
       "      (layer2): Sequential(\n",
       "        (0): BasicBlock(\n",
       "          (conv1): Conv2d(64, 128, kernel_size=(3, 3), stride=(2, 2), padding=(1, 1), bias=False)\n",
       "          (bn1): BatchNorm2d(128, eps=1e-05, momentum=0.1, affine=True, track_running_stats=True)\n",
       "          (relu): ReLU(inplace=True)\n",
       "          (conv2): Conv2d(128, 128, kernel_size=(3, 3), stride=(1, 1), padding=(1, 1), bias=False)\n",
       "          (bn2): BatchNorm2d(128, eps=1e-05, momentum=0.1, affine=True, track_running_stats=True)\n",
       "          (downsample): Sequential(\n",
       "            (0): Conv2d(64, 128, kernel_size=(1, 1), stride=(2, 2), bias=False)\n",
       "            (1): BatchNorm2d(128, eps=1e-05, momentum=0.1, affine=True, track_running_stats=True)\n",
       "          )\n",
       "        )\n",
       "        (1): BasicBlock(\n",
       "          (conv1): Conv2d(128, 128, kernel_size=(3, 3), stride=(1, 1), padding=(1, 1), bias=False)\n",
       "          (bn1): BatchNorm2d(128, eps=1e-05, momentum=0.1, affine=True, track_running_stats=True)\n",
       "          (relu): ReLU(inplace=True)\n",
       "          (conv2): Conv2d(128, 128, kernel_size=(3, 3), stride=(1, 1), padding=(1, 1), bias=False)\n",
       "          (bn2): BatchNorm2d(128, eps=1e-05, momentum=0.1, affine=True, track_running_stats=True)\n",
       "        )\n",
       "      )\n",
       "      (layer3): Sequential(\n",
       "        (0): BasicBlock(\n",
       "          (conv1): Conv2d(128, 256, kernel_size=(3, 3), stride=(2, 2), padding=(1, 1), bias=False)\n",
       "          (bn1): BatchNorm2d(256, eps=1e-05, momentum=0.1, affine=True, track_running_stats=True)\n",
       "          (relu): ReLU(inplace=True)\n",
       "          (conv2): Conv2d(256, 256, kernel_size=(3, 3), stride=(1, 1), padding=(1, 1), bias=False)\n",
       "          (bn2): BatchNorm2d(256, eps=1e-05, momentum=0.1, affine=True, track_running_stats=True)\n",
       "          (downsample): Sequential(\n",
       "            (0): Conv2d(128, 256, kernel_size=(1, 1), stride=(2, 2), bias=False)\n",
       "            (1): BatchNorm2d(256, eps=1e-05, momentum=0.1, affine=True, track_running_stats=True)\n",
       "          )\n",
       "        )\n",
       "        (1): BasicBlock(\n",
       "          (conv1): Conv2d(256, 256, kernel_size=(3, 3), stride=(1, 1), padding=(1, 1), bias=False)\n",
       "          (bn1): BatchNorm2d(256, eps=1e-05, momentum=0.1, affine=True, track_running_stats=True)\n",
       "          (relu): ReLU(inplace=True)\n",
       "          (conv2): Conv2d(256, 256, kernel_size=(3, 3), stride=(1, 1), padding=(1, 1), bias=False)\n",
       "          (bn2): BatchNorm2d(256, eps=1e-05, momentum=0.1, affine=True, track_running_stats=True)\n",
       "        )\n",
       "      )\n",
       "      (layer4): Sequential(\n",
       "        (0): BasicBlock(\n",
       "          (conv1): Conv2d(256, 512, kernel_size=(3, 3), stride=(2, 2), padding=(1, 1), bias=False)\n",
       "          (bn1): BatchNorm2d(512, eps=1e-05, momentum=0.1, affine=True, track_running_stats=True)\n",
       "          (relu): ReLU(inplace=True)\n",
       "          (conv2): Conv2d(512, 512, kernel_size=(3, 3), stride=(1, 1), padding=(1, 1), bias=False)\n",
       "          (bn2): BatchNorm2d(512, eps=1e-05, momentum=0.1, affine=True, track_running_stats=True)\n",
       "          (downsample): Sequential(\n",
       "            (0): Conv2d(256, 512, kernel_size=(1, 1), stride=(2, 2), bias=False)\n",
       "            (1): BatchNorm2d(512, eps=1e-05, momentum=0.1, affine=True, track_running_stats=True)\n",
       "          )\n",
       "        )\n",
       "        (1): BasicBlock(\n",
       "          (conv1): Conv2d(512, 512, kernel_size=(3, 3), stride=(1, 1), padding=(1, 1), bias=False)\n",
       "          (bn1): BatchNorm2d(512, eps=1e-05, momentum=0.1, affine=True, track_running_stats=True)\n",
       "          (relu): ReLU(inplace=True)\n",
       "          (conv2): Conv2d(512, 512, kernel_size=(3, 3), stride=(1, 1), padding=(1, 1), bias=False)\n",
       "          (bn2): BatchNorm2d(512, eps=1e-05, momentum=0.1, affine=True, track_running_stats=True)\n",
       "        )\n",
       "      )\n",
       "      (avgpool): AdaptiveAvgPool2d(output_size=(1, 1))\n",
       "      (fc): Identity()\n",
       "    )\n",
       "  )\n",
       ")"
      ]
     },
     "execution_count": 54,
     "metadata": {},
     "output_type": "execute_result"
    }
   ],
   "source": [
    "model_path = r\"C:\\Users\\duong\\.cache\\kagglehub\\models\\giahuytranviet\\siamese-verification-model\\pyTorch\\default\\1\"\n",
    "model = load_model(model_path, config['model']['backbone'], config['model']['feature_dim'], \"siamese\") #backbone = resnet18 - feature_dim = 512\n",
    "\n",
    "device = torch.device(config['device'] if torch.cuda.is_available() else \"cpu\")\n",
    "model.to(device)\n",
    "if torch.cuda.device_count() > 1:\n",
    "    print(f\"Using {torch.cuda.device_count()} GPUs\")\n",
    "    model = torch.nn.DataParallel(model, device_ids=[0, 1])\n",
    "\n",
    "model.eval()"
   ]
  },
  {
   "cell_type": "code",
   "execution_count": 77,
   "metadata": {},
   "outputs": [
    {
     "name": "stdout",
     "output_type": "stream",
     "text": [
      "Khoảng cách 2.0775232315063477\n",
      "Khoảng cách 2.6630942821502686\n",
      "Khoảng cách 1.9729629755020142\n",
      "Khoảng cách 2.857208251953125\n",
      "Khoảng cách 2.5964462757110596\n",
      "Khoảng cách 2.3780035972595215\n",
      "Khoảng cách 2.4618029594421387\n",
      "Khoảng cách 3.1287999153137207\n",
      "Khoảng cách 2.5938374996185303\n",
      "Khoảng cách 2.7349002361297607\n",
      "Khoảng cách 2.349599838256836\n",
      "Khoảng cách 2.740388870239258\n",
      "Khoảng cách 2.5279579162597656\n",
      "Khoảng cách 2.4004645347595215\n",
      "Khoảng cách 0.7487450242042542\n"
     ]
    }
   ],
   "source": [
    "all_distances = []\n",
    "all_labels = []\n",
    "\n",
    "with torch.no_grad():\n",
    "    for (img1, img2), label in siamese_test_loader:\n",
    "        img1, img2 = img1.to(device), img2.to(device)\n",
    "        output1, output2 = model(img1, img2)\n",
    "\n",
    "        distance = torch.norm(output1 - output2, p=2)\n",
    "        distances = F.pairwise_distance(output1, output2)\n",
    "        print(\"Khoảng cách\", distance.item())\n",
    "        all_distances.extend(distances.cpu().numpy())\n",
    "        all_labels.extend(label.numpy())"
   ]
  },
  {
   "cell_type": "code",
   "execution_count": 87,
   "metadata": {},
   "outputs": [
    {
     "name": "stdout",
     "output_type": "stream",
     "text": [
      "Accuracy: 0.7416\n",
      "AUC: 0.6723\n"
     ]
    }
   ],
   "source": [
    "threshold = 0.0732128769159317 # có thể điều chỉnh tùy tập dữ liệu\n",
    "y_pred = [1 if d < threshold else 0 for d in all_distances]\n",
    "\n",
    "accuracy = accuracy_score(all_labels, y_pred) ### acc bị sai \n",
    "auc = roc_auc_score(all_labels, -np.array(all_distances))  # đảo dấu để khoảng cách thấp = giống\n",
    "\n",
    "print(f\"Accuracy: {accuracy:.4f}\")\n",
    "print(f\"AUC: {auc:.4f}\")"
   ]
  },
  {
   "cell_type": "code",
   "execution_count": 88,
   "metadata": {},
   "outputs": [
    {
     "name": "stdout",
     "output_type": "stream",
     "text": [
      "Best threshold: 0.0732128769159317, Best accuracy: 0.7416481069042317\n"
     ]
    }
   ],
   "source": [
    "best_acc = 0\n",
    "for t in np.linspace(min(all_distances), max(all_distances), 500):\n",
    "    y_pred = [1 if d < t else 0 for d in all_distances]\n",
    "    acc = accuracy_score(all_labels, y_pred)\n",
    "    if acc > best_acc:\n",
    "        best_acc = acc\n",
    "        best_t = t\n",
    "print(f\"Best threshold: {best_t}, Best accuracy: {best_acc}\")"
   ]
  },
  {
   "cell_type": "markdown",
   "metadata": {},
   "source": [
    "## Memory Tracker"
   ]
  },
  {
   "cell_type": "code",
   "execution_count": 89,
   "metadata": {},
   "outputs": [],
   "source": [
    "import psutil\n",
    "import time\n",
    "import gc\n",
    "from tqdm import tqdm\n",
    "from PIL import Image\n",
    "\n",
    "class MemoryTracker:\n",
    "    def __init__(self):\n",
    "        self.proc = psutil.Process(os.getpid())\n",
    "        self.start = self.peak = self.end = None\n",
    "\n",
    "    def start_tracking(self):\n",
    "        gc.collect()\n",
    "        if torch.cuda.is_available():\n",
    "            torch.cuda.empty_cache()\n",
    "        self.start = self.proc.memory_info().rss / 1e6\n",
    "        self.peak = self.start\n",
    "\n",
    "    def update(self):\n",
    "        cur = self.proc.memory_info().rss / 1e6\n",
    "        self.peak = max(self.peak, cur)\n",
    "\n",
    "    def end_tracking(self):\n",
    "        self.end = self.proc.memory_info().rss / 1e6\n",
    "\n",
    "    def summary(self):\n",
    "        return {\n",
    "            'start_MB': self.start,\n",
    "            'peak_MB': self.peak,\n",
    "            'end_MB': self.end,\n",
    "            'delta_MB': self.end - self.start\n",
    "        }"
   ]
  },
  {
   "cell_type": "code",
   "execution_count": 90,
   "metadata": {},
   "outputs": [
    {
     "name": "stderr",
     "output_type": "stream",
     "text": [
      "Computing similarities: 100%|██████████| 500/500 [00:35<00:00, 14.07it/s]"
     ]
    },
    {
     "name": "stdout",
     "output_type": "stream",
     "text": [
      "Execution time: 35.53s\n",
      "Memory usage (MB): {'start_MB': 749.600768, 'peak_MB': 749.600768, 'end_MB': 528.818176, 'delta_MB': -220.78259200000002}\n"
     ]
    },
    {
     "name": "stderr",
     "output_type": "stream",
     "text": [
      "\n"
     ]
    }
   ],
   "source": [
    "tracker = MemoryTracker()\n",
    "tracker.start_tracking()\n",
    "t0 = time.time()\n",
    "\n",
    "sims = []\n",
    "for idx, (p, q) in enumerate(tqdm(pairs, desc=\"Computing similarities\")):\n",
    "    img1 = transform(Image.open(p).convert('RGB')).unsqueeze(0).to(device)\n",
    "    img2 = transform(Image.open(q).convert('RGB')).unsqueeze(0).to(device)\n",
    "    with torch.no_grad():\n",
    "        f1 = model.feature_extractor(img1)\n",
    "        f2 = model.feature_extractor(img2)\n",
    "    dist = F.pairwise_distance(f1, f2).item()\n",
    "    sims.append(1.0 / (1.0 + dist))\n",
    "    if idx % 50 == 0:\n",
    "        tracker.update()\n",
    "\n",
    "tracker.end_tracking()\n",
    "exec_time = time.time() - t0\n",
    "mem_stats = tracker.summary()\n",
    "print(f\"Execution time: {exec_time:.2f}s\")\n",
    "print(\"Memory usage (MB):\", mem_stats)"
   ]
  },
  {
   "cell_type": "code",
   "execution_count": null,
   "metadata": {},
   "outputs": [],
   "source": [
    "threshold = 0.1199\n",
    "preds = (np.array(sims) > threshold).astype(int)\n",
    "\n",
    "# Metrics\n",
    "acc   = accuracy_score(labels, preds)\n",
    "pre   = precision_score(labels, preds)\n",
    "rec   = recall_score(labels, preds)\n",
    "f1    = f1_score(labels, preds)\n",
    "fpr, tpr, _ = roc_curve(labels, sims)\n",
    "roc_auc = auc(fpr, tpr)\n",
    "cm    = confusion_matrix(labels, preds)\n",
    "\n",
    "print(f\"Accuracy : {acc:.4f}\")\n",
    "print(f\"Precision: {pre:.4f}\")\n",
    "print(f\"Recall   : {rec:.4f}\")\n",
    "print(f\"F1-score : {f1:.4f}\")\n",
    "print(f\"ROC AUC  : {roc_auc:.4f}\")\n",
    "print(\"Confusion Matrix:\\n\", cm)"
   ]
  },
  {
   "cell_type": "markdown",
   "metadata": {},
   "source": [
    "## Visualization"
   ]
  },
  {
   "cell_type": "code",
   "execution_count": 91,
   "metadata": {},
   "outputs": [
    {
     "data": {
      "image/png": "[encoded data removed]",
      "text/plain": [
       "<Figure size 640x480 with 1 Axes>"
      ]
     },
     "metadata": {},
     "output_type": "display_data"
    }
   ],
   "source": [
    "import matplotlib.pyplot as plt\n",
    "\n",
    "genuine = [d for d, l in zip(all_distances, all_labels) if l == 1]\n",
    "forged = [d for d, l in zip(all_distances, all_labels) if l == 0]\n",
    "\n",
    "plt.hist(genuine, bins=50, alpha=0.7, label='Genuine')\n",
    "plt.hist(forged, bins=50, alpha=0.7, label='Forged')\n",
    "plt.axvline(threshold, color='red', linestyle='--', label='Threshold')\n",
    "plt.legend()\n",
    "plt.title('Distance Distribution')\n",
    "plt.xlabel('Euclidean Distance')\n",
    "plt.ylabel('Frequency')\n",
    "plt.show()"
   ]
  },
  {
   "cell_type": "code",
   "execution_count": 92,
   "metadata": {},
   "outputs": [
    {
     "data": {
      "image/png": "[encoded data removed]",
      "text/plain": [
       "<Figure size 800x600 with 1 Axes>"
      ]
     },
     "metadata": {},
     "output_type": "display_data"
    },
    {
     "name": "stdout",
     "output_type": "stream",
     "text": [
      "Ngưỡng tối ưu: 0.7094 với F1-score: 0.8091\n"
     ]
    }
   ],
   "source": [
    "from sklearn.metrics import precision_recall_curve\n",
    "\n",
    "# Tính Precision, Recall cho các ngưỡng\n",
    "precision, recall, thresholds = precision_recall_curve(labels, sims)\n",
    "\n",
    "# Vẽ đồ thị Precision-Recall\n",
    "plt.figure(figsize=(8, 6))\n",
    "plt.plot(recall, precision, marker='.')\n",
    "plt.xlabel('Recall')\n",
    "plt.ylabel('Precision')\n",
    "plt.title('Precision-Recall Curve')\n",
    "plt.grid(True)\n",
    "plt.show()\n",
    "\n",
    "# Tìm ngưỡng tối ưu dựa trên F1-score\n",
    "f1_scores = 2 * (precision * recall) / (precision + recall + 1e-10)  # Thêm 1e-10 để tránh chia cho 0\n",
    "optimal_idx = np.argmax(f1_scores)\n",
    "optimal_threshold = thresholds[optimal_idx]\n",
    "print(f\"Ngưỡng tối ưu: {optimal_threshold:.4f} với F1-score: {f1_scores[optimal_idx]:.4f}\")"
   ]
  }
 ],
 "metadata": {
  "kaggle": {
   "accelerator": "nvidiaTeslaT4",
   "dataSources": [
    {
     "datasetId": 1512017,
     "sourceId": 2497231,
     "sourceType": "datasetVersion"
    }
   ],
   "dockerImageVersionId": 31012,
   "isGpuEnabled": true,
   "isInternetEnabled": true,
   "language": "python",
   "sourceType": "notebook"
  },
  "kernelspec": {
   "display_name": "Python 3",
   "language": "python",
   "name": "python3"
  },
  "language_info": {
   "codemirror_mode": {
    "name": "ipython",
    "version": 3
   },
   "file_extension": ".py",
   "mimetype": "text/x-python",
   "name": "python",
   "nbconvert_exporter": "python",
   "pygments_lexer": "ipython3",
   "version": "3.13.1"
  }
 },
 "nbformat": 4,
 "nbformat_minor": 4
}
