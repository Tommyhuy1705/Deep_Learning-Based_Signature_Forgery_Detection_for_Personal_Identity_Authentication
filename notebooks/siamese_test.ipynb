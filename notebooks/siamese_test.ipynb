{
 "cells": [
  {
   "cell_type": "code",
   "execution_count": 1,
   "metadata": {
    "execution": {
     "iopub.execute_input": "2025-05-03T16:38:44.606159Z",
     "iopub.status.busy": "2025-05-03T16:38:44.605889Z",
     "iopub.status.idle": "2025-05-03T16:38:44.612191Z",
     "shell.execute_reply": "2025-05-03T16:38:44.611611Z",
     "shell.execute_reply.started": "2025-05-03T16:38:44.606132Z"
    },
    "trusted": true
   },
   "outputs": [
    {
     "name": "stdout",
     "output_type": "stream",
     "text": [
      "c:\\Users\\duong\\Downloads\\Deep_Learning-Based_Signature_Forgery_Detection_for_Personal_Identity_Authentication\n"
     ]
    },
    {
     "name": "stderr",
     "output_type": "stream",
     "text": [
      "C:\\Users\\duong\\AppData\\Roaming\\Python\\Python313\\site-packages\\IPython\\core\\magics\\osm.py:417: UserWarning: This is now an optional IPython functionality, setting dhist requires you to install the `pickleshare` library.\n",
      "  self.shell.db['dhist'] = compress_dhist(dhist)[-100:]\n"
     ]
    }
   ],
   "source": [
    "# Move to the directory where the notebook is located\n",
    "# and set directory to Deep_Learning-Based_Signature_Forgery_Detection_for_Personal_Identity_Authentication\n",
    "%cd .."
   ]
  },
  {
   "cell_type": "code",
   "execution_count": 2,
   "metadata": {},
   "outputs": [
    {
     "name": "stdout",
     "output_type": "stream",
     "text": [
      "c:\\Users\\duong\\Downloads\\Deep_Learning-Based_Signature_Forgery_Detection_for_Personal_Identity_Authentication\n"
     ]
    }
   ],
   "source": [
    "import os\n",
    "print(os.getcwd())"
   ]
  },
  {
   "cell_type": "markdown",
   "metadata": {},
   "source": [
    "# Model information"
   ]
  },
  {
   "cell_type": "code",
   "execution_count": 3,
   "metadata": {
    "execution": {
     "iopub.execute_input": "2025-05-03T16:38:44.613279Z",
     "iopub.status.busy": "2025-05-03T16:38:44.613014Z",
     "iopub.status.idle": "2025-05-03T16:39:58.401595Z",
     "shell.execute_reply": "2025-05-03T16:39:58.400907Z",
     "shell.execute_reply.started": "2025-05-03T16:38:44.613257Z"
    },
    "trusted": true
   },
   "outputs": [
    {
     "name": "stdout",
     "output_type": "stream",
     "text": [
      "Obtaining file:///C:/Users/duong/Downloads/Deep_Learning-Based_Signature_Forgery_Detection_for_Personal_Identity_Authentication\n",
      "  Installing build dependencies: started\n",
      "  Installing build dependencies: finished with status 'done'\n",
      "  Checking if build backend supports build_editable: started\n",
      "  Checking if build backend supports build_editable: finished with status 'done'\n",
      "  Getting requirements to build editable: started\n",
      "  Getting requirements to build editable: finished with status 'done'\n",
      "  Preparing editable metadata (pyproject.toml): started\n",
      "  Preparing editable metadata (pyproject.toml): finished with status 'done'\n",
      "Requirement already satisfied: pyyaml in c:\\users\\duong\\appdata\\local\\programs\\python\\python313\\lib\\site-packages (from signature_verification==0.1.0) (6.0.2)\n",
      "Requirement already satisfied: torch in c:\\users\\duong\\appdata\\local\\programs\\python\\python313\\lib\\site-packages (from signature_verification==0.1.0) (2.7.0)\n",
      "Requirement already satisfied: torchvision in c:\\users\\duong\\appdata\\local\\programs\\python\\python313\\lib\\site-packages (from signature_verification==0.1.0) (0.22.0)\n",
      "Requirement already satisfied: opencv-python in c:\\users\\duong\\appdata\\local\\programs\\python\\python313\\lib\\site-packages (from signature_verification==0.1.0) (4.11.0.86)\n",
      "Requirement already satisfied: numpy in c:\\users\\duong\\appdata\\local\\programs\\python\\python313\\lib\\site-packages (from signature_verification==0.1.0) (2.2.0)\n",
      "Requirement already satisfied: matplotlib in c:\\users\\duong\\appdata\\local\\programs\\python\\python313\\lib\\site-packages (from signature_verification==0.1.0) (3.9.3)\n",
      "Requirement already satisfied: scikit-learn in c:\\users\\duong\\appdata\\local\\programs\\python\\python313\\lib\\site-packages (from signature_verification==0.1.0) (1.6.1)\n",
      "Requirement already satisfied: kaggle in c:\\users\\duong\\appdata\\local\\programs\\python\\python313\\lib\\site-packages (from signature_verification==0.1.0) (1.7.4.2)\n",
      "Requirement already satisfied: ipywidgets in c:\\users\\duong\\appdata\\local\\programs\\python\\python313\\lib\\site-packages (from signature_verification==0.1.0) (8.1.6)\n",
      "Requirement already satisfied: Pillow in c:\\users\\duong\\appdata\\local\\programs\\python\\python313\\lib\\site-packages (from signature_verification==0.1.0) (11.0.0)\n",
      "Requirement already satisfied: comm>=0.1.3 in c:\\users\\duong\\appdata\\roaming\\python\\python313\\site-packages (from ipywidgets->signature_verification==0.1.0) (0.2.2)\n",
      "Requirement already satisfied: ipython>=6.1.0 in c:\\users\\duong\\appdata\\roaming\\python\\python313\\site-packages (from ipywidgets->signature_verification==0.1.0) (8.30.0)\n",
      "Requirement already satisfied: traitlets>=4.3.1 in c:\\users\\duong\\appdata\\roaming\\python\\python313\\site-packages (from ipywidgets->signature_verification==0.1.0) (5.14.3)\n",
      "Requirement already satisfied: widgetsnbextension~=4.0.14 in c:\\users\\duong\\appdata\\local\\programs\\python\\python313\\lib\\site-packages (from ipywidgets->signature_verification==0.1.0) (4.0.14)\n",
      "Requirement already satisfied: jupyterlab_widgets~=3.0.14 in c:\\users\\duong\\appdata\\local\\programs\\python\\python313\\lib\\site-packages (from ipywidgets->signature_verification==0.1.0) (3.0.14)\n",
      "Requirement already satisfied: bleach in c:\\users\\duong\\appdata\\local\\programs\\python\\python313\\lib\\site-packages (from kaggle->signature_verification==0.1.0) (6.2.0)\n",
      "Requirement already satisfied: certifi>=14.05.14 in c:\\users\\duong\\appdata\\local\\programs\\python\\python313\\lib\\site-packages (from kaggle->signature_verification==0.1.0) (2025.4.26)\n",
      "Requirement already satisfied: charset-normalizer in c:\\users\\duong\\appdata\\local\\programs\\python\\python313\\lib\\site-packages (from kaggle->signature_verification==0.1.0) (3.4.2)\n",
      "Requirement already satisfied: idna in c:\\users\\duong\\appdata\\local\\programs\\python\\python313\\lib\\site-packages (from kaggle->signature_verification==0.1.0) (3.10)\n",
      "Requirement already satisfied: protobuf in c:\\users\\duong\\appdata\\local\\programs\\python\\python313\\lib\\site-packages (from kaggle->signature_verification==0.1.0) (6.30.2)\n",
      "Requirement already satisfied: python-dateutil>=2.5.3 in c:\\users\\duong\\appdata\\local\\programs\\python\\python313\\lib\\site-packages (from kaggle->signature_verification==0.1.0) (2.9.0.post0)\n",
      "Requirement already satisfied: python-slugify in c:\\users\\duong\\appdata\\local\\programs\\python\\python313\\lib\\site-packages (from kaggle->signature_verification==0.1.0) (8.0.4)\n",
      "Requirement already satisfied: requests in c:\\users\\duong\\appdata\\local\\programs\\python\\python313\\lib\\site-packages (from kaggle->signature_verification==0.1.0) (2.32.3)\n",
      "Requirement already satisfied: setuptools>=21.0.0 in c:\\users\\duong\\appdata\\local\\programs\\python\\python313\\lib\\site-packages (from kaggle->signature_verification==0.1.0) (77.0.3)\n",
      "Requirement already satisfied: six>=1.10 in c:\\users\\duong\\appdata\\local\\programs\\python\\python313\\lib\\site-packages (from kaggle->signature_verification==0.1.0) (1.17.0)\n",
      "Requirement already satisfied: text-unidecode in c:\\users\\duong\\appdata\\local\\programs\\python\\python313\\lib\\site-packages (from kaggle->signature_verification==0.1.0) (1.3)\n",
      "Requirement already satisfied: tqdm in c:\\users\\duong\\appdata\\local\\programs\\python\\python313\\lib\\site-packages (from kaggle->signature_verification==0.1.0) (4.67.1)\n",
      "Requirement already satisfied: urllib3>=1.15.1 in c:\\users\\duong\\appdata\\local\\programs\\python\\python313\\lib\\site-packages (from kaggle->signature_verification==0.1.0) (2.4.0)\n",
      "Requirement already satisfied: webencodings in c:\\users\\duong\\appdata\\local\\programs\\python\\python313\\lib\\site-packages (from kaggle->signature_verification==0.1.0) (0.5.1)\n",
      "Requirement already satisfied: contourpy>=1.0.1 in c:\\users\\duong\\appdata\\local\\programs\\python\\python313\\lib\\site-packages (from matplotlib->signature_verification==0.1.0) (1.3.1)\n",
      "Requirement already satisfied: cycler>=0.10 in c:\\users\\duong\\appdata\\local\\programs\\python\\python313\\lib\\site-packages (from matplotlib->signature_verification==0.1.0) (0.12.1)\n",
      "Requirement already satisfied: fonttools>=4.22.0 in c:\\users\\duong\\appdata\\local\\programs\\python\\python313\\lib\\site-packages (from matplotlib->signature_verification==0.1.0) (4.55.2)\n",
      "Requirement already satisfied: kiwisolver>=1.3.1 in c:\\users\\duong\\appdata\\local\\programs\\python\\python313\\lib\\site-packages (from matplotlib->signature_verification==0.1.0) (1.4.7)\n",
      "Requirement already satisfied: packaging>=20.0 in c:\\users\\duong\\appdata\\local\\programs\\python\\python313\\lib\\site-packages (from matplotlib->signature_verification==0.1.0) (24.2)\n",
      "Requirement already satisfied: pyparsing>=2.3.1 in c:\\users\\duong\\appdata\\local\\programs\\python\\python313\\lib\\site-packages (from matplotlib->signature_verification==0.1.0) (3.2.0)\n",
      "Requirement already satisfied: scipy>=1.6.0 in c:\\users\\duong\\appdata\\local\\programs\\python\\python313\\lib\\site-packages (from scikit-learn->signature_verification==0.1.0) (1.15.2)\n",
      "Requirement already satisfied: joblib>=1.2.0 in c:\\users\\duong\\appdata\\local\\programs\\python\\python313\\lib\\site-packages (from scikit-learn->signature_verification==0.1.0) (1.4.2)\n",
      "Requirement already satisfied: threadpoolctl>=3.1.0 in c:\\users\\duong\\appdata\\local\\programs\\python\\python313\\lib\\site-packages (from scikit-learn->signature_verification==0.1.0) (3.6.0)\n",
      "Requirement already satisfied: filelock in c:\\users\\duong\\appdata\\local\\programs\\python\\python313\\lib\\site-packages (from torch->signature_verification==0.1.0) (3.18.0)\n",
      "Requirement already satisfied: typing-extensions>=4.10.0 in c:\\users\\duong\\appdata\\local\\programs\\python\\python313\\lib\\site-packages (from torch->signature_verification==0.1.0) (4.12.2)\n",
      "Requirement already satisfied: sympy>=1.13.3 in c:\\users\\duong\\appdata\\local\\programs\\python\\python313\\lib\\site-packages (from torch->signature_verification==0.1.0) (1.14.0)\n",
      "Requirement already satisfied: networkx in c:\\users\\duong\\appdata\\local\\programs\\python\\python313\\lib\\site-packages (from torch->signature_verification==0.1.0) (3.4.2)\n",
      "Requirement already satisfied: jinja2 in c:\\users\\duong\\appdata\\local\\programs\\python\\python313\\lib\\site-packages (from torch->signature_verification==0.1.0) (3.1.6)\n",
      "Requirement already satisfied: fsspec in c:\\users\\duong\\appdata\\local\\programs\\python\\python313\\lib\\site-packages (from torch->signature_verification==0.1.0) (2025.3.0)\n",
      "Requirement already satisfied: colorama in c:\\users\\duong\\appdata\\roaming\\python\\python313\\site-packages (from ipython>=6.1.0->ipywidgets->signature_verification==0.1.0) (0.4.6)\n",
      "Requirement already satisfied: decorator in c:\\users\\duong\\appdata\\roaming\\python\\python313\\site-packages (from ipython>=6.1.0->ipywidgets->signature_verification==0.1.0) (5.1.1)\n",
      "Requirement already satisfied: jedi>=0.16 in c:\\users\\duong\\appdata\\roaming\\python\\python313\\site-packages (from ipython>=6.1.0->ipywidgets->signature_verification==0.1.0) (0.19.2)\n",
      "Requirement already satisfied: matplotlib-inline in c:\\users\\duong\\appdata\\roaming\\python\\python313\\site-packages (from ipython>=6.1.0->ipywidgets->signature_verification==0.1.0) (0.1.7)\n",
      "Requirement already satisfied: prompt_toolkit<3.1.0,>=3.0.41 in c:\\users\\duong\\appdata\\roaming\\python\\python313\\site-packages (from ipython>=6.1.0->ipywidgets->signature_verification==0.1.0) (3.0.48)\n",
      "Requirement already satisfied: pygments>=2.4.0 in c:\\users\\duong\\appdata\\roaming\\python\\python313\\site-packages (from ipython>=6.1.0->ipywidgets->signature_verification==0.1.0) (2.18.0)\n",
      "Requirement already satisfied: stack_data in c:\\users\\duong\\appdata\\roaming\\python\\python313\\site-packages (from ipython>=6.1.0->ipywidgets->signature_verification==0.1.0) (0.6.3)\n",
      "Requirement already satisfied: mpmath<1.4,>=1.1.0 in c:\\users\\duong\\appdata\\local\\programs\\python\\python313\\lib\\site-packages (from sympy>=1.13.3->torch->signature_verification==0.1.0) (1.3.0)\n",
      "Requirement already satisfied: MarkupSafe>=2.0 in c:\\users\\duong\\appdata\\local\\programs\\python\\python313\\lib\\site-packages (from jinja2->torch->signature_verification==0.1.0) (3.0.2)\n",
      "Requirement already satisfied: parso<0.9.0,>=0.8.4 in c:\\users\\duong\\appdata\\roaming\\python\\python313\\site-packages (from jedi>=0.16->ipython>=6.1.0->ipywidgets->signature_verification==0.1.0) (0.8.4)\n",
      "Requirement already satisfied: wcwidth in c:\\users\\duong\\appdata\\roaming\\python\\python313\\site-packages (from prompt_toolkit<3.1.0,>=3.0.41->ipython>=6.1.0->ipywidgets->signature_verification==0.1.0) (0.2.13)\n",
      "Requirement already satisfied: executing>=1.2.0 in c:\\users\\duong\\appdata\\roaming\\python\\python313\\site-packages (from stack_data->ipython>=6.1.0->ipywidgets->signature_verification==0.1.0) (2.1.0)\n",
      "Requirement already satisfied: asttokens>=2.1.0 in c:\\users\\duong\\appdata\\roaming\\python\\python313\\site-packages (from stack_data->ipython>=6.1.0->ipywidgets->signature_verification==0.1.0) (3.0.0)\n",
      "Requirement already satisfied: pure-eval in c:\\users\\duong\\appdata\\roaming\\python\\python313\\site-packages (from stack_data->ipython>=6.1.0->ipywidgets->signature_verification==0.1.0) (0.2.3)\n",
      "Building wheels for collected packages: signature_verification\n",
      "  Building editable for signature_verification (pyproject.toml): started\n",
      "  Building editable for signature_verification (pyproject.toml): finished with status 'done'\n",
      "  Created wheel for signature_verification: filename=signature_verification-0.1.0-0.editable-py3-none-any.whl size=3195 sha256=e43195bd8aabaa572c86dc9f1d45fe46949bde9ec4d65e6b9924ecf74003f2b9\n",
      "  Stored in directory: C:\\Users\\duong\\AppData\\Local\\Temp\\pip-ephem-wheel-cache-f0lhv0kd\\wheels\\bb\\5f\\60\\9bfd4d91d8399f0129cc44b7757dfa673625735cd7d6df80e6\n",
      "Successfully built signature_verification\n",
      "Installing collected packages: signature_verification\n",
      "  Attempting uninstall: signature_verification\n",
      "    Found existing installation: signature_verification 0.1.0\n",
      "    Uninstalling signature_verification-0.1.0:\n",
      "      Successfully uninstalled signature_verification-0.1.0\n",
      "Successfully installed signature_verification-0.1.0\n"
     ]
    },
    {
     "name": "stderr",
     "output_type": "stream",
     "text": [
      "\n",
      "[notice] A new release of pip is available: 24.3.1 -> 25.1\n",
      "[notice] To update, run: python.exe -m pip install --upgrade pip\n"
     ]
    }
   ],
   "source": [
    "# Đảm bảo đang ở Deep_Learning-Based_Signature_Forgery_Detection_for_Personal_Identity_Authentication\n",
    "# Cài đặt package\n",
    "!pip install -e ."
   ]
  },
  {
   "cell_type": "code",
   "execution_count": 4,
   "metadata": {
    "execution": {
     "iopub.execute_input": "2025-05-03T16:39:58.403921Z",
     "iopub.status.busy": "2025-05-03T16:39:58.403708Z",
     "iopub.status.idle": "2025-05-03T16:40:03.306362Z",
     "shell.execute_reply": "2025-05-03T16:40:03.305766Z",
     "shell.execute_reply.started": "2025-05-03T16:39:58.403901Z"
    },
    "trusted": true
   },
   "outputs": [
    {
     "name": "stdout",
     "output_type": "stream",
     "text": [
      "Package installed and imported successfully!\n"
     ]
    }
   ],
   "source": [
    "# Import module\n",
    "from utils.helpers import load_config,get_model_from_Kaggle,load_model\n",
    "print(\"Package installed and imported successfully!\")"
   ]
  },
  {
   "cell_type": "code",
   "execution_count": 5,
   "metadata": {
    "execution": {
     "iopub.execute_input": "2025-05-03T16:40:04.762220Z",
     "iopub.status.busy": "2025-05-03T16:40:04.762015Z",
     "iopub.status.idle": "2025-05-03T16:40:04.768925Z",
     "shell.execute_reply": "2025-05-03T16:40:04.768110Z",
     "shell.execute_reply.started": "2025-05-03T16:40:04.762204Z"
    },
    "trusted": true
   },
   "outputs": [
    {
     "name": "stdout",
     "output_type": "stream",
     "text": [
      "{'model': {'name': 'siamese', 'backbone': 'resnet18', 'feature_dim': 512, 'kaggle_handle': 'giahuytranviet/siamese-verification-model/pyTorch/default'}, 'training': {'batch_size': 32, 'learning_rate': 0.001, 'optimizer': 'adam', 'num_epochs': 50, 'margin': 0.5, 'scheduler': 'cosine'}, 'dataset': {'original_data_path': None, 'forgeries_data_path': None, 'input_size': [220, 150]}, 'device': 'cuda', 'logging': {'log_dir': './logs/', 'checkpoint_dir': './checkpoints/', 'save_freq': 5}}\n"
     ]
    }
   ],
   "source": [
    "#Config information\n",
    "config = load_config('configs/config_siamese.yaml')\n",
    "print(config)"
   ]
  },
  {
   "cell_type": "code",
   "execution_count": 6,
   "metadata": {},
   "outputs": [
    {
     "name": "stdout",
     "output_type": "stream",
     "text": [
      "Model downloaded to C:\\Users\\duong\\.cache\\kagglehub\\models\\giahuytranviet\\siamese-verification-model\\pyTorch\\default\\1\n"
     ]
    }
   ],
   "source": [
    "model_path = get_model_from_Kaggle(config['model']['kaggle_handle'])"
   ]
  },
  {
   "cell_type": "code",
   "execution_count": 7,
   "metadata": {},
   "outputs": [
    {
     "name": "stderr",
     "output_type": "stream",
     "text": [
      "c:\\Users\\duong\\AppData\\Local\\Programs\\Python\\Python313\\Lib\\site-packages\\torchvision\\models\\_utils.py:208: UserWarning: The parameter 'pretrained' is deprecated since 0.13 and may be removed in the future, please use 'weights' instead.\n",
      "  warnings.warn(\n",
      "c:\\Users\\duong\\AppData\\Local\\Programs\\Python\\Python313\\Lib\\site-packages\\torchvision\\models\\_utils.py:223: UserWarning: Arguments other than a weight enum or `None` for 'weights' are deprecated since 0.13 and may be removed in the future. The current behavior is equivalent to passing `weights=ResNet18_Weights.IMAGENET1K_V1`. You can also use `weights=ResNet18_Weights.DEFAULT` to get the most up-to-date weights.\n",
      "  warnings.warn(msg)\n"
     ]
    },
    {
     "name": "stdout",
     "output_type": "stream",
     "text": [
      "Model loaded successfully\n",
      "Model loaded from C:\\Users\\duong\\.cache\\kagglehub\\models\\giahuytranviet\\siamese-verification-model\\pyTorch\\default\\1\n",
      "SiameseNetwork(\n",
      "  (feature_extractor): ResNetFeatureExtractor(\n",
      "    (backbone): ResNet(\n",
      "      (conv1): Conv2d(3, 64, kernel_size=(7, 7), stride=(2, 2), padding=(3, 3), bias=False)\n",
      "      (bn1): BatchNorm2d(64, eps=1e-05, momentum=0.1, affine=True, track_running_stats=True)\n",
      "      (relu): ReLU(inplace=True)\n",
      "      (maxpool): MaxPool2d(kernel_size=3, stride=2, padding=1, dilation=1, ceil_mode=False)\n",
      "      (layer1): Sequential(\n",
      "        (0): BasicBlock(\n",
      "          (conv1): Conv2d(64, 64, kernel_size=(3, 3), stride=(1, 1), padding=(1, 1), bias=False)\n",
      "          (bn1): BatchNorm2d(64, eps=1e-05, momentum=0.1, affine=True, track_running_stats=True)\n",
      "          (relu): ReLU(inplace=True)\n",
      "          (conv2): Conv2d(64, 64, kernel_size=(3, 3), stride=(1, 1), padding=(1, 1), bias=False)\n",
      "          (bn2): BatchNorm2d(64, eps=1e-05, momentum=0.1, affine=True, track_running_stats=True)\n",
      "        )\n",
      "        (1): BasicBlock(\n",
      "          (conv1): Conv2d(64, 64, kernel_size=(3, 3), stride=(1, 1), padding=(1, 1), bias=False)\n",
      "          (bn1): BatchNorm2d(64, eps=1e-05, momentum=0.1, affine=True, track_running_stats=True)\n",
      "          (relu): ReLU(inplace=True)\n",
      "          (conv2): Conv2d(64, 64, kernel_size=(3, 3), stride=(1, 1), padding=(1, 1), bias=False)\n",
      "          (bn2): BatchNorm2d(64, eps=1e-05, momentum=0.1, affine=True, track_running_stats=True)\n",
      "        )\n",
      "      )\n",
      "      (layer2): Sequential(\n",
      "        (0): BasicBlock(\n",
      "          (conv1): Conv2d(64, 128, kernel_size=(3, 3), stride=(2, 2), padding=(1, 1), bias=False)\n",
      "          (bn1): BatchNorm2d(128, eps=1e-05, momentum=0.1, affine=True, track_running_stats=True)\n",
      "          (relu): ReLU(inplace=True)\n",
      "          (conv2): Conv2d(128, 128, kernel_size=(3, 3), stride=(1, 1), padding=(1, 1), bias=False)\n",
      "          (bn2): BatchNorm2d(128, eps=1e-05, momentum=0.1, affine=True, track_running_stats=True)\n",
      "          (downsample): Sequential(\n",
      "            (0): Conv2d(64, 128, kernel_size=(1, 1), stride=(2, 2), bias=False)\n",
      "            (1): BatchNorm2d(128, eps=1e-05, momentum=0.1, affine=True, track_running_stats=True)\n",
      "          )\n",
      "        )\n",
      "        (1): BasicBlock(\n",
      "          (conv1): Conv2d(128, 128, kernel_size=(3, 3), stride=(1, 1), padding=(1, 1), bias=False)\n",
      "          (bn1): BatchNorm2d(128, eps=1e-05, momentum=0.1, affine=True, track_running_stats=True)\n",
      "          (relu): ReLU(inplace=True)\n",
      "          (conv2): Conv2d(128, 128, kernel_size=(3, 3), stride=(1, 1), padding=(1, 1), bias=False)\n",
      "          (bn2): BatchNorm2d(128, eps=1e-05, momentum=0.1, affine=True, track_running_stats=True)\n",
      "        )\n",
      "      )\n",
      "      (layer3): Sequential(\n",
      "        (0): BasicBlock(\n",
      "          (conv1): Conv2d(128, 256, kernel_size=(3, 3), stride=(2, 2), padding=(1, 1), bias=False)\n",
      "          (bn1): BatchNorm2d(256, eps=1e-05, momentum=0.1, affine=True, track_running_stats=True)\n",
      "          (relu): ReLU(inplace=True)\n",
      "          (conv2): Conv2d(256, 256, kernel_size=(3, 3), stride=(1, 1), padding=(1, 1), bias=False)\n",
      "          (bn2): BatchNorm2d(256, eps=1e-05, momentum=0.1, affine=True, track_running_stats=True)\n",
      "          (downsample): Sequential(\n",
      "            (0): Conv2d(128, 256, kernel_size=(1, 1), stride=(2, 2), bias=False)\n",
      "            (1): BatchNorm2d(256, eps=1e-05, momentum=0.1, affine=True, track_running_stats=True)\n",
      "          )\n",
      "        )\n",
      "        (1): BasicBlock(\n",
      "          (conv1): Conv2d(256, 256, kernel_size=(3, 3), stride=(1, 1), padding=(1, 1), bias=False)\n",
      "          (bn1): BatchNorm2d(256, eps=1e-05, momentum=0.1, affine=True, track_running_stats=True)\n",
      "          (relu): ReLU(inplace=True)\n",
      "          (conv2): Conv2d(256, 256, kernel_size=(3, 3), stride=(1, 1), padding=(1, 1), bias=False)\n",
      "          (bn2): BatchNorm2d(256, eps=1e-05, momentum=0.1, affine=True, track_running_stats=True)\n",
      "        )\n",
      "      )\n",
      "      (layer4): Sequential(\n",
      "        (0): BasicBlock(\n",
      "          (conv1): Conv2d(256, 512, kernel_size=(3, 3), stride=(2, 2), padding=(1, 1), bias=False)\n",
      "          (bn1): BatchNorm2d(512, eps=1e-05, momentum=0.1, affine=True, track_running_stats=True)\n",
      "          (relu): ReLU(inplace=True)\n",
      "          (conv2): Conv2d(512, 512, kernel_size=(3, 3), stride=(1, 1), padding=(1, 1), bias=False)\n",
      "          (bn2): BatchNorm2d(512, eps=1e-05, momentum=0.1, affine=True, track_running_stats=True)\n",
      "          (downsample): Sequential(\n",
      "            (0): Conv2d(256, 512, kernel_size=(1, 1), stride=(2, 2), bias=False)\n",
      "            (1): BatchNorm2d(512, eps=1e-05, momentum=0.1, affine=True, track_running_stats=True)\n",
      "          )\n",
      "        )\n",
      "        (1): BasicBlock(\n",
      "          (conv1): Conv2d(512, 512, kernel_size=(3, 3), stride=(1, 1), padding=(1, 1), bias=False)\n",
      "          (bn1): BatchNorm2d(512, eps=1e-05, momentum=0.1, affine=True, track_running_stats=True)\n",
      "          (relu): ReLU(inplace=True)\n",
      "          (conv2): Conv2d(512, 512, kernel_size=(3, 3), stride=(1, 1), padding=(1, 1), bias=False)\n",
      "          (bn2): BatchNorm2d(512, eps=1e-05, momentum=0.1, affine=True, track_running_stats=True)\n",
      "        )\n",
      "      )\n",
      "      (avgpool): AdaptiveAvgPool2d(output_size=(1, 1))\n",
      "      (fc): Identity()\n",
      "    )\n",
      "  )\n",
      ")\n",
      "Tổng số tham số: 11176512\n"
     ]
    }
   ],
   "source": [
    "#Model information\n",
    "model = load_model(model_path, config['model']['backbone'],config['model']['feature_dim'],config['model']['name'])\n",
    "\n",
    "print(model)  # Print the model architecture\n",
    "print(\"Tổng số tham số:\", sum(p.numel() for p in model.parameters()))"
   ]
  },
  {
   "cell_type": "markdown",
   "metadata": {},
   "source": [
    "# Test Model"
   ]
  },
  {
   "cell_type": "markdown",
   "metadata": {},
   "source": [
    "## Data import"
   ]
  },
  {
   "cell_type": "code",
   "execution_count": 10,
   "metadata": {},
   "outputs": [],
   "source": [
    "import kagglehub"
   ]
  },
  {
   "cell_type": "code",
   "execution_count": 16,
   "metadata": {},
   "outputs": [
    {
     "name": "stdout",
     "output_type": "stream",
     "text": [
      "Downloading from https://www.kaggle.com/api/v1/datasets/download/divyanshrai/handwritten-signatures?dataset_version_number=2...\n"
     ]
    },
    {
     "name": "stderr",
     "output_type": "stream",
     "text": [
      "100%|██████████| 370M/370M [00:15<00:00, 24.9MB/s] "
     ]
    },
    {
     "name": "stdout",
     "output_type": "stream",
     "text": [
      "Extracting files...\n"
     ]
    },
    {
     "name": "stderr",
     "output_type": "stream",
     "text": [
      "\n"
     ]
    },
    {
     "name": "stdout",
     "output_type": "stream",
     "text": [
      "Path to dataset files [divyanshrai]: C:\\Users\\duong\\.cache\\kagglehub\\datasets\\divyanshrai\\handwritten-signatures\\versions\\2\n"
     ]
    }
   ],
   "source": [
    "pathA = kagglehub.dataset_download(\"divyanshrai/handwritten-signatures\")\n",
    "print(\"Path to dataset files [divyanshrai]:\", pathA) #dataset A"
   ]
  },
  {
   "cell_type": "code",
   "execution_count": 12,
   "metadata": {},
   "outputs": [
    {
     "name": "stdout",
     "output_type": "stream",
     "text": [
      "Path to dataset files [sureshpokharel444]: C:\\Users\\duong\\.cache\\kagglehub\\datasets\\sureshpokharel444\\handwritten-signatures\\versions\\1\n"
     ]
    }
   ],
   "source": [
    "pathB = kagglehub.dataset_download(\"sureshpokharel444/handwritten-signatures\")\n",
    "print(\"Path to dataset files [sureshpokharel444]:\", pathB) #dataset B"
   ]
  },
  {
   "cell_type": "markdown",
   "metadata": {},
   "source": [
    "## Preprocess Data Name"
   ]
  },
  {
   "cell_type": "code",
   "execution_count": 56,
   "metadata": {},
   "outputs": [],
   "source": [
    "folder_path = r'C:\\Users\\duong\\.cache\\kagglehub\\datasets\\divyanshrai\\handwritten-signatures\\versions\\2\\sample_Signature\\sample_Signature\\forged'"
   ]
  },
  {
   "cell_type": "code",
   "execution_count": null,
   "metadata": {},
   "outputs": [],
   "source": [
    "class preprocessor(str):\n",
    "    def __init__(self, path):\n",
    "        self.path = path\n",
    "\n",
    "    def _rename_file(self, filename):\n",
    "        id1 = int(filename[4:7]) # str - 3 chữ số đầu xxx\n",
    "        id2 = int(filename[7:9]) # str - 2 chữ số giữa yy\n",
    "        \n",
    "        if 'forged' in self.path:\n",
    "            new_name = f\"forgeries_{id1}_{id3}.png\"\n",
    "        \n",
    "        elif 'genuine' in self.path:\n",
    "            new_name = f\"original_{id1}_{id2}.png\"\n",
    "\n",
    "        return new_name\n",
    "\n",
    "    def do_rename(self):\n",
    "        files = os.listdir(self.path)\n",
    "\n",
    "        files = sorted(os.listdir(self.path)) \n",
    "        # Đổi tên các file trong thư mục\n",
    "        for file in files:\n",
    "            # Đổi tên các file\n",
    "            new_file = self._rename_file(file)\n",
    "\n",
    "            old_path = os.path.join(self.path, file)\n",
    "            new_path = os.path.join(self.path, new_file)\n",
    "\n",
    "            print(f\"Đổi {file} → {new_file}\")\n",
    "            os.rename(old_path, new_path)"
   ]
  },
  {
   "cell_type": "code",
   "execution_count": null,
   "metadata": {},
   "outputs": [
    {
     "name": "stdout",
     "output_type": "stream",
     "text": [
      "Đổi NFI-00101014.png → forgeries_1_1.png\n",
      "Đổi NFI-00101019.png → forgeries_1_1.png\n"
     ]
    },
    {
     "ename": "FileExistsError",
     "evalue": "[WinError 183] Cannot create a file when that file already exists: 'C:\\\\Users\\\\duong\\\\.cache\\\\kagglehub\\\\datasets\\\\divyanshrai\\\\handwritten-signatures\\\\versions\\\\2\\\\sample_Signature\\\\sample_Signature\\\\forged\\\\NFI-00101019.png' -> 'C:\\\\Users\\\\duong\\\\.cache\\\\kagglehub\\\\datasets\\\\divyanshrai\\\\handwritten-signatures\\\\versions\\\\2\\\\sample_Signature\\\\sample_Signature\\\\forged\\\\forgeries_1_1.png'",
     "output_type": "error",
     "traceback": [
      "\u001b[1;31m---------------------------------------------------------------------------\u001b[0m",
      "\u001b[1;31mFileExistsError\u001b[0m                           Traceback (most recent call last)",
      "Cell \u001b[1;32mIn[58], line 2\u001b[0m\n\u001b[0;32m      1\u001b[0m testA \u001b[38;5;241m=\u001b[39m divyanshrai_preprocessor(folder_path)\n\u001b[1;32m----> 2\u001b[0m \u001b[43mtestA\u001b[49m\u001b[38;5;241;43m.\u001b[39;49m\u001b[43mdo_rename\u001b[49m\u001b[43m(\u001b[49m\u001b[43m)\u001b[49m\n",
      "Cell \u001b[1;32mIn[57], line 30\u001b[0m, in \u001b[0;36mdivyanshrai_preprocessor.do_rename\u001b[1;34m(self)\u001b[0m\n\u001b[0;32m     27\u001b[0m new_path \u001b[38;5;241m=\u001b[39m os\u001b[38;5;241m.\u001b[39mpath\u001b[38;5;241m.\u001b[39mjoin(\u001b[38;5;28mself\u001b[39m\u001b[38;5;241m.\u001b[39mpath, new_file)\n\u001b[0;32m     29\u001b[0m \u001b[38;5;28mprint\u001b[39m(\u001b[38;5;124mf\u001b[39m\u001b[38;5;124m\"\u001b[39m\u001b[38;5;124mĐổi \u001b[39m\u001b[38;5;132;01m{\u001b[39;00mfile\u001b[38;5;132;01m}\u001b[39;00m\u001b[38;5;124m → \u001b[39m\u001b[38;5;132;01m{\u001b[39;00mnew_file\u001b[38;5;132;01m}\u001b[39;00m\u001b[38;5;124m\"\u001b[39m)\n\u001b[1;32m---> 30\u001b[0m \u001b[43mos\u001b[49m\u001b[38;5;241;43m.\u001b[39;49m\u001b[43mrename\u001b[49m\u001b[43m(\u001b[49m\u001b[43mold_path\u001b[49m\u001b[43m,\u001b[49m\u001b[43m \u001b[49m\u001b[43mnew_path\u001b[49m\u001b[43m)\u001b[49m\n",
      "\u001b[1;31mFileExistsError\u001b[0m: [WinError 183] Cannot create a file when that file already exists: 'C:\\\\Users\\\\duong\\\\.cache\\\\kagglehub\\\\datasets\\\\divyanshrai\\\\handwritten-signatures\\\\versions\\\\2\\\\sample_Signature\\\\sample_Signature\\\\forged\\\\NFI-00101019.png' -> 'C:\\\\Users\\\\duong\\\\.cache\\\\kagglehub\\\\datasets\\\\divyanshrai\\\\handwritten-signatures\\\\versions\\\\2\\\\sample_Signature\\\\sample_Signature\\\\forged\\\\forgeries_1_1.png'"
     ]
    }
   ],
   "source": [
    "test = preprocessor(folder_path)\n",
    "test.do_rename()"
   ]
  },
  {
   "cell_type": "markdown",
   "metadata": {},
   "source": [
    "## Statistics  & Model import"
   ]
  },
  {
   "cell_type": "code",
   "execution_count": 8,
   "metadata": {},
   "outputs": [],
   "source": [
    "from sklearn import metrics\n",
    "from sklearn.metrics import accuracy_score, f1_score\n",
    "from sklearn.metrics import recall_score, precision_score\n",
    "from sklearn.metrics import roc_auc_score"
   ]
  },
  {
   "cell_type": "code",
   "execution_count": 9,
   "metadata": {},
   "outputs": [],
   "source": [
    "from losses.contrastive_loss import ContrastiveLoss\n",
    "from models.siamese_network import SiameseNetwork\n",
    "from datasets.siamese_dataloader import SiameseSignatureDataset"
   ]
  },
  {
   "cell_type": "markdown",
   "metadata": {},
   "source": [
    "## Prepare Data"
   ]
  },
  {
   "cell_type": "code",
   "execution_count": 41,
   "metadata": {},
   "outputs": [],
   "source": [
    "import torchvision.transforms as transforms\n",
    "import torch.optim as optim\n",
    "import torch.nn.functional as F\n",
    "import torch\n",
    "import random\n",
    "import numpy as np\n",
    "from torch.utils.data import DataLoader\n",
    "\n",
    "seed = 42\n",
    "random.seed(seed)\n",
    "np.random.seed(seed)\n",
    "torch.manual_seed(seed)\n",
    "torch.cuda.manual_seed_all(seed)\n",
    "torch.backends.cudnn.deterministic = True\n",
    "torch.backends.cudnn.benchmark = False"
   ]
  },
  {
   "cell_type": "code",
   "execution_count": null,
   "metadata": {},
   "outputs": [],
   "source": [
    "# Transform chung\n",
    "transform = transforms.Compose([\n",
    "    transforms.Resize((220, 150)),\n",
    "    transforms.Grayscale(),  # Đảm bảo ảnh 1 kênh\n",
    "    transforms.ToTensor(),\n",
    "    transforms.Lambda(lambda x: x.repeat(3, 1, 1)),  # 1 kênh -> 3 kênh\n",
    "    transforms.Normalize(mean=[0.5, 0.5, 0.5], std=[0.5, 0.5, 0.5])\n",
    "])\n",
    "\n",
    "# Tạo dataset\n",
    "siamese_test_set = SiameseSignatureDataset(\n",
    "    org_dir=r'C:\\Users\\duong\\.cache\\kagglehub\\datasets\\divyanshrai\\handwritten-signatures\\versions\\2\\sample_Signature\\sample_Signature\\genuine',\n",
    "    forg_dir=r'C:\\Users\\duong\\.cache\\kagglehub\\datasets\\divyanshrai\\handwritten-signatures\\versions\\2\\sample_Signature\\sample_Signature\\forged',\n",
    "    transform=transform\n",
    ")\n",
    "\n",
    "siamese_test_loader = DataLoader(siamese_test_set, num_workers=0, batch_size=32, shuffle=True)"
   ]
  },
  {
   "cell_type": "code",
   "execution_count": 33,
   "metadata": {},
   "outputs": [
    {
     "name": "stdout",
     "output_type": "stream",
     "text": [
      "Siamese Dataset - Total pairs: 179\n",
      "Pair shape: torch.Size([3, 220, 150]), torch.Size([3, 220, 150])\n",
      "Label: 1.0\n"
     ]
    }
   ],
   "source": [
    "# Kiểm tra Siamese Dataset\n",
    "print(f\"Siamese Dataset - Total pairs: {len(siamese_test_set)}\")\n",
    "sample_pair, label = siamese_test_set[0]\n",
    "print(f\"Pair shape: {sample_pair[0].shape}, {sample_pair[1].shape}\")\n",
    "print(f\"Label: {label}\")"
   ]
  },
  {
   "cell_type": "code",
   "execution_count": 38,
   "metadata": {},
   "outputs": [
    {
     "name": "stdout",
     "output_type": "stream",
     "text": [
      "Model loaded successfully\n",
      "Model loaded from C:\\Users\\duong\\.cache\\kagglehub\\models\\giahuytranviet\\siamese-verification-model\\pyTorch\\default\\1\n"
     ]
    },
    {
     "data": {
      "text/plain": [
       "SiameseNetwork(\n",
       "  (feature_extractor): ResNetFeatureExtractor(\n",
       "    (backbone): ResNet(\n",
       "      (conv1): Conv2d(3, 64, kernel_size=(7, 7), stride=(2, 2), padding=(3, 3), bias=False)\n",
       "      (bn1): BatchNorm2d(64, eps=1e-05, momentum=0.1, affine=True, track_running_stats=True)\n",
       "      (relu): ReLU(inplace=True)\n",
       "      (maxpool): MaxPool2d(kernel_size=3, stride=2, padding=1, dilation=1, ceil_mode=False)\n",
       "      (layer1): Sequential(\n",
       "        (0): BasicBlock(\n",
       "          (conv1): Conv2d(64, 64, kernel_size=(3, 3), stride=(1, 1), padding=(1, 1), bias=False)\n",
       "          (bn1): BatchNorm2d(64, eps=1e-05, momentum=0.1, affine=True, track_running_stats=True)\n",
       "          (relu): ReLU(inplace=True)\n",
       "          (conv2): Conv2d(64, 64, kernel_size=(3, 3), stride=(1, 1), padding=(1, 1), bias=False)\n",
       "          (bn2): BatchNorm2d(64, eps=1e-05, momentum=0.1, affine=True, track_running_stats=True)\n",
       "        )\n",
       "        (1): BasicBlock(\n",
       "          (conv1): Conv2d(64, 64, kernel_size=(3, 3), stride=(1, 1), padding=(1, 1), bias=False)\n",
       "          (bn1): BatchNorm2d(64, eps=1e-05, momentum=0.1, affine=True, track_running_stats=True)\n",
       "          (relu): ReLU(inplace=True)\n",
       "          (conv2): Conv2d(64, 64, kernel_size=(3, 3), stride=(1, 1), padding=(1, 1), bias=False)\n",
       "          (bn2): BatchNorm2d(64, eps=1e-05, momentum=0.1, affine=True, track_running_stats=True)\n",
       "        )\n",
       "      )\n",
       "      (layer2): Sequential(\n",
       "        (0): BasicBlock(\n",
       "          (conv1): Conv2d(64, 128, kernel_size=(3, 3), stride=(2, 2), padding=(1, 1), bias=False)\n",
       "          (bn1): BatchNorm2d(128, eps=1e-05, momentum=0.1, affine=True, track_running_stats=True)\n",
       "          (relu): ReLU(inplace=True)\n",
       "          (conv2): Conv2d(128, 128, kernel_size=(3, 3), stride=(1, 1), padding=(1, 1), bias=False)\n",
       "          (bn2): BatchNorm2d(128, eps=1e-05, momentum=0.1, affine=True, track_running_stats=True)\n",
       "          (downsample): Sequential(\n",
       "            (0): Conv2d(64, 128, kernel_size=(1, 1), stride=(2, 2), bias=False)\n",
       "            (1): BatchNorm2d(128, eps=1e-05, momentum=0.1, affine=True, track_running_stats=True)\n",
       "          )\n",
       "        )\n",
       "        (1): BasicBlock(\n",
       "          (conv1): Conv2d(128, 128, kernel_size=(3, 3), stride=(1, 1), padding=(1, 1), bias=False)\n",
       "          (bn1): BatchNorm2d(128, eps=1e-05, momentum=0.1, affine=True, track_running_stats=True)\n",
       "          (relu): ReLU(inplace=True)\n",
       "          (conv2): Conv2d(128, 128, kernel_size=(3, 3), stride=(1, 1), padding=(1, 1), bias=False)\n",
       "          (bn2): BatchNorm2d(128, eps=1e-05, momentum=0.1, affine=True, track_running_stats=True)\n",
       "        )\n",
       "      )\n",
       "      (layer3): Sequential(\n",
       "        (0): BasicBlock(\n",
       "          (conv1): Conv2d(128, 256, kernel_size=(3, 3), stride=(2, 2), padding=(1, 1), bias=False)\n",
       "          (bn1): BatchNorm2d(256, eps=1e-05, momentum=0.1, affine=True, track_running_stats=True)\n",
       "          (relu): ReLU(inplace=True)\n",
       "          (conv2): Conv2d(256, 256, kernel_size=(3, 3), stride=(1, 1), padding=(1, 1), bias=False)\n",
       "          (bn2): BatchNorm2d(256, eps=1e-05, momentum=0.1, affine=True, track_running_stats=True)\n",
       "          (downsample): Sequential(\n",
       "            (0): Conv2d(128, 256, kernel_size=(1, 1), stride=(2, 2), bias=False)\n",
       "            (1): BatchNorm2d(256, eps=1e-05, momentum=0.1, affine=True, track_running_stats=True)\n",
       "          )\n",
       "        )\n",
       "        (1): BasicBlock(\n",
       "          (conv1): Conv2d(256, 256, kernel_size=(3, 3), stride=(1, 1), padding=(1, 1), bias=False)\n",
       "          (bn1): BatchNorm2d(256, eps=1e-05, momentum=0.1, affine=True, track_running_stats=True)\n",
       "          (relu): ReLU(inplace=True)\n",
       "          (conv2): Conv2d(256, 256, kernel_size=(3, 3), stride=(1, 1), padding=(1, 1), bias=False)\n",
       "          (bn2): BatchNorm2d(256, eps=1e-05, momentum=0.1, affine=True, track_running_stats=True)\n",
       "        )\n",
       "      )\n",
       "      (layer4): Sequential(\n",
       "        (0): BasicBlock(\n",
       "          (conv1): Conv2d(256, 512, kernel_size=(3, 3), stride=(2, 2), padding=(1, 1), bias=False)\n",
       "          (bn1): BatchNorm2d(512, eps=1e-05, momentum=0.1, affine=True, track_running_stats=True)\n",
       "          (relu): ReLU(inplace=True)\n",
       "          (conv2): Conv2d(512, 512, kernel_size=(3, 3), stride=(1, 1), padding=(1, 1), bias=False)\n",
       "          (bn2): BatchNorm2d(512, eps=1e-05, momentum=0.1, affine=True, track_running_stats=True)\n",
       "          (downsample): Sequential(\n",
       "            (0): Conv2d(256, 512, kernel_size=(1, 1), stride=(2, 2), bias=False)\n",
       "            (1): BatchNorm2d(512, eps=1e-05, momentum=0.1, affine=True, track_running_stats=True)\n",
       "          )\n",
       "        )\n",
       "        (1): BasicBlock(\n",
       "          (conv1): Conv2d(512, 512, kernel_size=(3, 3), stride=(1, 1), padding=(1, 1), bias=False)\n",
       "          (bn1): BatchNorm2d(512, eps=1e-05, momentum=0.1, affine=True, track_running_stats=True)\n",
       "          (relu): ReLU(inplace=True)\n",
       "          (conv2): Conv2d(512, 512, kernel_size=(3, 3), stride=(1, 1), padding=(1, 1), bias=False)\n",
       "          (bn2): BatchNorm2d(512, eps=1e-05, momentum=0.1, affine=True, track_running_stats=True)\n",
       "        )\n",
       "      )\n",
       "      (avgpool): AdaptiveAvgPool2d(output_size=(1, 1))\n",
       "      (fc): Identity()\n",
       "    )\n",
       "  )\n",
       ")"
      ]
     },
     "execution_count": 38,
     "metadata": {},
     "output_type": "execute_result"
    }
   ],
   "source": [
    "model_path = r\"C:\\Users\\duong\\.cache\\kagglehub\\models\\giahuytranviet\\siamese-verification-model\\pyTorch\\default\\1\"\n",
    "model = load_model(model_path, config['model']['backbone'], config['model']['feature_dim'], \"siamese\") #backbone = resnet18 - feature_dim = 512\n",
    "\n",
    "device = torch.device(config['device'] if torch.cuda.is_available() else \"cpu\")\n",
    "model.to(device)\n",
    "if torch.cuda.device_count() > 1:\n",
    "    print(f\"Using {torch.cuda.device_count()} GPUs\")\n",
    "    model = torch.nn.DataParallel(model, device_ids=[0, 1])\n",
    "\n",
    "model.eval()"
   ]
  },
  {
   "cell_type": "code",
   "execution_count": null,
   "metadata": {},
   "outputs": [
    {
     "name": "stdout",
     "output_type": "stream",
     "text": [
      "Khoảng cách: tensor([0.5559, 0.4519, 0.2252, 0.3887, 0.2746, 0.9726, 0.6473, 0.3838, 0.3247,\n",
      "        0.1069, 0.7071, 0.3484, 0.7487, 0.2214, 0.3870, 0.1550, 0.4340, 1.2445,\n",
      "        0.6328, 0.0842, 0.5051, 0.3737, 0.8275, 0.4886, 0.2731, 0.4684, 0.3836,\n",
      "        0.6882, 0.3670, 0.4179, 0.5287, 0.5962])\n",
      "Khoảng cách: tensor([2.2627e-05, 6.3034e-01, 4.3412e-01, 5.3273e-01, 1.1494e+00, 5.9203e-01,\n",
      "        3.4854e-01, 4.1424e-01, 3.6325e-01, 9.4809e-01, 7.6273e-01, 2.5011e-01,\n",
      "        2.8676e-01, 2.1396e-01, 2.5090e-01, 4.3132e-01, 3.5386e-01, 3.8875e-01,\n",
      "        1.7226e-01, 8.0998e-01, 6.8088e-01, 4.0247e-01, 8.4618e-01, 9.1808e-01,\n",
      "        3.0372e-01, 5.3919e-01, 2.3753e-01, 2.1790e-01, 2.1957e-01, 2.3608e-01,\n",
      "        3.3974e-01, 9.1963e-01])\n",
      "Khoảng cách: tensor([3.8881e-01, 9.3265e-01, 6.8856e-01, 5.9113e-01, 5.1029e-01, 9.2941e-01,\n",
      "        3.0484e-01, 3.2496e-01, 2.5292e-01, 2.2627e-05, 2.2066e-01, 3.5902e-01,\n",
      "        4.0340e-01, 1.7728e-01, 3.9475e-01, 1.2691e-01, 4.6844e-01, 3.4562e-01,\n",
      "        6.7308e-01, 2.2627e-05, 8.0681e-01, 1.6143e-01, 1.9942e-01, 1.8924e-01,\n",
      "        8.2279e-01, 2.4234e-01, 1.1114e+00, 2.5477e-01, 1.7080e-01, 2.5742e-01,\n",
      "        2.8475e-01, 6.9525e-01])\n",
      "Khoảng cách: tensor([0.1342, 0.3615, 0.6478, 0.5511, 0.3605, 0.3755, 1.2174, 0.4048, 0.4778,\n",
      "        0.6157, 0.4324, 0.4423, 0.0825, 0.9469, 0.4687, 0.2669, 0.4939, 0.4342,\n",
      "        0.8320, 0.1178, 0.6579, 0.1605, 0.1979, 0.4624, 0.3323, 0.6715, 0.5226,\n",
      "        0.4948, 0.1872, 0.4933, 0.8912, 0.2964])\n",
      "Khoảng cách: tensor([0.6565, 0.3176, 0.5131, 0.2531, 0.1120, 0.1849, 0.5092, 0.3188, 0.5673,\n",
      "        0.4311, 0.3392, 1.2165, 0.3359, 0.6295, 0.5928, 0.1605, 0.4685, 0.7316,\n",
      "        0.9189, 0.2972, 0.5089, 0.2838, 0.4750, 1.2755, 0.2595, 0.4970, 0.6128,\n",
      "        0.3541, 0.3735, 0.1862, 0.3030, 0.2490])\n",
      "Khoảng cách: tensor([5.5882e-01, 3.8237e-01, 4.7949e-01, 2.8047e-01, 2.7312e-01, 2.2627e-05,\n",
      "        8.1099e-01, 8.2378e-01, 4.0793e-01, 4.4678e-01, 3.4586e-01, 2.8288e-01,\n",
      "        6.3054e-01, 9.7898e-01, 1.9411e-01, 6.7856e-01, 7.4298e-01, 3.6065e-01,\n",
      "        5.7605e-01])\n"
     ]
    }
   ],
   "source": [
    "all_distances = ()\n",
    "all_labels = ()\n",
    "\n",
    "with torch.no_grad():\n",
    "    for (img1, img2), label in siamese_test_loader:\n",
    "        img1, img2 = img1.to(device), img2.to(device)\n",
    "        output1, output2 = model(img1, img2)\n",
    "\n",
    "        distances = F.pairwise_distance(output1, output2)\n",
    "        print(\"Khoảng cách:\", distances) ### khoảng cách in ra là số\n",
    "        all_distances.extend(distances.cpu().numpy())\n",
    "        all_labels.extend(label.numpy())"
   ]
  },
  {
   "cell_type": "code",
   "execution_count": null,
   "metadata": {},
   "outputs": [
    {
     "name": "stdout",
     "output_type": "stream",
     "text": [
      "Accuracy: 0.4693\n",
      "AUC: 0.4671\n"
     ]
    }
   ],
   "source": [
    "threshold = config['training']['margin']  # có thể điều chỉnh tùy tập dữ liệu\n",
    "y_pred = [1 if d < threshold else 0 for d in all_distances]\n",
    "\n",
    "accuracy = accuracy_score(all_labels, y_pred) ### acc bị sai \n",
    "auc = roc_auc_score(all_labels, -np.array(all_distances))  # đảo dấu để khoảng cách thấp = giống\n",
    "\n",
    "print(f\"Accuracy: {accuracy:.4f}\")\n",
    "print(f\"AUC: {auc:.4f}\")"
   ]
  },
  {
   "cell_type": "markdown",
   "metadata": {},
   "source": [
    "## Visualization"
   ]
  },
  {
   "cell_type": "code",
   "execution_count": 50,
   "metadata": {},
   "outputs": [
    {
     "data": {
      "image/png": "[encoded data removed]",
      "text/plain": [
       "<Figure size 640x480 with 1 Axes>"
      ]
     },
     "metadata": {},
     "output_type": "display_data"
    }
   ],
   "source": [
    "import matplotlib.pyplot as plt\n",
    "\n",
    "genuine = [d for d, l in zip(all_distances, all_labels) if l == 1]\n",
    "forged = [d for d, l in zip(all_distances, all_labels) if l == 0]\n",
    "\n",
    "plt.hist(genuine, bins=50, alpha=0.7, label='Genuine')\n",
    "plt.hist(forged, bins=50, alpha=0.7, label='Forged')\n",
    "plt.axvline(threshold, color='red', linestyle='--', label='Threshold')\n",
    "plt.legend()\n",
    "plt.title('Distance Distribution')\n",
    "plt.xlabel('Euclidean Distance')\n",
    "plt.ylabel('Frequency')\n",
    "plt.show()"
   ]
  }
 ],
 "metadata": {
  "kaggle": {
   "accelerator": "nvidiaTeslaT4",
   "dataSources": [
    {
     "datasetId": 1512017,
     "sourceId": 2497231,
     "sourceType": "datasetVersion"
    }
   ],
   "dockerImageVersionId": 31012,
   "isGpuEnabled": true,
   "isInternetEnabled": true,
   "language": "python",
   "sourceType": "notebook"
  },
  "kernelspec": {
   "display_name": "Python 3",
   "language": "python",
   "name": "python3"
  },
  "language_info": {
   "codemirror_mode": {
    "name": "ipython",
    "version": 3
   },
   "file_extension": ".py",
   "mimetype": "text/x-python",
   "name": "python",
   "nbconvert_exporter": "python",
   "pygments_lexer": "ipython3",
   "version": "3.13.1"
  }
 },
 "nbformat": 4,
 "nbformat_minor": 4
}
