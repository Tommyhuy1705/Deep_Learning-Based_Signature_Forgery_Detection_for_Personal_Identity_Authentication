{
 "cells": [
  {
   "cell_type": "markdown",
   "id": "8fdf2e12",
   "metadata": {},
   "source": [
    "# Cái này là để cài đặt folder thành pakege để gọi imoport mà ko lỗi á. Nó tự sinh ra file 'signature_verification.egg-info' chứa thông tin tác giả của mìnhmình"
   ]
  },
  {
   "cell_type": "code",
   "execution_count": 1,
   "id": "56ad7105",
   "metadata": {},
   "outputs": [
    {
     "name": "stdout",
     "output_type": "stream",
     "text": [
      "d:\\Study\\School\\Phương pháp nghiên cứu\\Deep_Learning-Based_Signature_Forgery_Detection_for_Personal_Identity_Authentication\n",
      "Defaulting to user installation because normal site-packages is not writeable\n",
      "Obtaining file:///D:/Study/School/Ph%C6%B0%C6%A1ng%20ph%C3%A1p%20nghi%C3%AAn%20c%E1%BB%A9u/Deep_Learning-Based_Signature_Forgery_Detection_for_Personal_Identity_Authentication\n",
      "  Installing build dependencies: started\n",
      "  Installing build dependencies: finished with status 'done'\n",
      "  Checking if build backend supports build_editable: started\n",
      "  Checking if build backend supports build_editable: finished with status 'done'\n",
      "  Getting requirements to build editable: started\n",
      "  Getting requirements to build editable: finished with status 'done'\n",
      "  Preparing editable metadata (pyproject.toml): started\n",
      "  Preparing editable metadata (pyproject.toml): finished with status 'done'\n",
      "Requirement already satisfied: pyyaml in c:\\users\\legion\\appdata\\local\\packages\\pythonsoftwarefoundation.python.3.12_qbz5n2kfra8p0\\localcache\\local-packages\\python312\\site-packages (from signature_verification==0.1.0) (6.0.2)\n",
      "Requirement already satisfied: torch in c:\\users\\legion\\appdata\\local\\packages\\pythonsoftwarefoundation.python.3.12_qbz5n2kfra8p0\\localcache\\local-packages\\python312\\site-packages (from signature_verification==0.1.0) (2.6.0+cu124)\n",
      "Requirement already satisfied: torchvision in c:\\users\\legion\\appdata\\local\\packages\\pythonsoftwarefoundation.python.3.12_qbz5n2kfra8p0\\localcache\\local-packages\\python312\\site-packages (from signature_verification==0.1.0) (0.21.0+cu124)\n",
      "Requirement already satisfied: opencv-python in c:\\users\\legion\\appdata\\local\\packages\\pythonsoftwarefoundation.python.3.12_qbz5n2kfra8p0\\localcache\\local-packages\\python312\\site-packages (from signature_verification==0.1.0) (4.10.0.84)\n",
      "Requirement already satisfied: numpy in c:\\users\\legion\\appdata\\local\\packages\\pythonsoftwarefoundation.python.3.12_qbz5n2kfra8p0\\localcache\\local-packages\\python312\\site-packages (from signature_verification==0.1.0) (2.1.1)\n",
      "Requirement already satisfied: matplotlib in c:\\users\\legion\\appdata\\local\\packages\\pythonsoftwarefoundation.python.3.12_qbz5n2kfra8p0\\localcache\\local-packages\\python312\\site-packages (from signature_verification==0.1.0) (3.9.3)\n",
      "Requirement already satisfied: scikit-learn in c:\\users\\legion\\appdata\\local\\packages\\pythonsoftwarefoundation.python.3.12_qbz5n2kfra8p0\\localcache\\local-packages\\python312\\site-packages (from signature_verification==0.1.0) (1.6.1)\n",
      "Requirement already satisfied: contourpy>=1.0.1 in c:\\users\\legion\\appdata\\local\\packages\\pythonsoftwarefoundation.python.3.12_qbz5n2kfra8p0\\localcache\\local-packages\\python312\\site-packages (from matplotlib->signature_verification==0.1.0) (1.3.0)\n",
      "Requirement already satisfied: cycler>=0.10 in c:\\users\\legion\\appdata\\local\\packages\\pythonsoftwarefoundation.python.3.12_qbz5n2kfra8p0\\localcache\\local-packages\\python312\\site-packages (from matplotlib->signature_verification==0.1.0) (0.12.1)\n",
      "Requirement already satisfied: fonttools>=4.22.0 in c:\\users\\legion\\appdata\\local\\packages\\pythonsoftwarefoundation.python.3.12_qbz5n2kfra8p0\\localcache\\local-packages\\python312\\site-packages (from matplotlib->signature_verification==0.1.0) (4.53.1)\n",
      "Requirement already satisfied: kiwisolver>=1.3.1 in c:\\users\\legion\\appdata\\local\\packages\\pythonsoftwarefoundation.python.3.12_qbz5n2kfra8p0\\localcache\\local-packages\\python312\\site-packages (from matplotlib->signature_verification==0.1.0) (1.4.7)\n",
      "Requirement already satisfied: packaging>=20.0 in c:\\users\\legion\\appdata\\local\\packages\\pythonsoftwarefoundation.python.3.12_qbz5n2kfra8p0\\localcache\\local-packages\\python312\\site-packages (from matplotlib->signature_verification==0.1.0) (24.1)\n",
      "Requirement already satisfied: pillow>=8 in c:\\users\\legion\\appdata\\local\\packages\\pythonsoftwarefoundation.python.3.12_qbz5n2kfra8p0\\localcache\\local-packages\\python312\\site-packages (from matplotlib->signature_verification==0.1.0) (10.4.0)\n",
      "Requirement already satisfied: pyparsing>=2.3.1 in c:\\users\\legion\\appdata\\local\\packages\\pythonsoftwarefoundation.python.3.12_qbz5n2kfra8p0\\localcache\\local-packages\\python312\\site-packages (from matplotlib->signature_verification==0.1.0) (3.1.4)\n",
      "Requirement already satisfied: python-dateutil>=2.7 in c:\\users\\legion\\appdata\\local\\packages\\pythonsoftwarefoundation.python.3.12_qbz5n2kfra8p0\\localcache\\local-packages\\python312\\site-packages (from matplotlib->signature_verification==0.1.0) (2.9.0.post0)\n",
      "Requirement already satisfied: scipy>=1.6.0 in c:\\users\\legion\\appdata\\local\\packages\\pythonsoftwarefoundation.python.3.12_qbz5n2kfra8p0\\localcache\\local-packages\\python312\\site-packages (from scikit-learn->signature_verification==0.1.0) (1.14.1)\n",
      "Requirement already satisfied: joblib>=1.2.0 in c:\\users\\legion\\appdata\\local\\packages\\pythonsoftwarefoundation.python.3.12_qbz5n2kfra8p0\\localcache\\local-packages\\python312\\site-packages (from scikit-learn->signature_verification==0.1.0) (1.4.2)\n",
      "Requirement already satisfied: threadpoolctl>=3.1.0 in c:\\users\\legion\\appdata\\local\\packages\\pythonsoftwarefoundation.python.3.12_qbz5n2kfra8p0\\localcache\\local-packages\\python312\\site-packages (from scikit-learn->signature_verification==0.1.0) (3.6.0)\n",
      "Requirement already satisfied: filelock in c:\\users\\legion\\appdata\\local\\packages\\pythonsoftwarefoundation.python.3.12_qbz5n2kfra8p0\\localcache\\local-packages\\python312\\site-packages (from torch->signature_verification==0.1.0) (3.13.1)\n",
      "Requirement already satisfied: typing-extensions>=4.10.0 in c:\\users\\legion\\appdata\\local\\packages\\pythonsoftwarefoundation.python.3.12_qbz5n2kfra8p0\\localcache\\local-packages\\python312\\site-packages (from torch->signature_verification==0.1.0) (4.12.2)\n",
      "Requirement already satisfied: networkx in c:\\users\\legion\\appdata\\local\\packages\\pythonsoftwarefoundation.python.3.12_qbz5n2kfra8p0\\localcache\\local-packages\\python312\\site-packages (from torch->signature_verification==0.1.0) (3.4.1)\n",
      "Requirement already satisfied: jinja2 in c:\\users\\legion\\appdata\\local\\packages\\pythonsoftwarefoundation.python.3.12_qbz5n2kfra8p0\\localcache\\local-packages\\python312\\site-packages (from torch->signature_verification==0.1.0) (3.1.4)\n",
      "Requirement already satisfied: fsspec in c:\\users\\legion\\appdata\\local\\packages\\pythonsoftwarefoundation.python.3.12_qbz5n2kfra8p0\\localcache\\local-packages\\python312\\site-packages (from torch->signature_verification==0.1.0) (2024.6.1)\n",
      "Requirement already satisfied: setuptools in c:\\users\\legion\\appdata\\local\\packages\\pythonsoftwarefoundation.python.3.12_qbz5n2kfra8p0\\localcache\\local-packages\\python312\\site-packages (from torch->signature_verification==0.1.0) (70.2.0)\n",
      "Requirement already satisfied: sympy==1.13.1 in c:\\users\\legion\\appdata\\local\\packages\\pythonsoftwarefoundation.python.3.12_qbz5n2kfra8p0\\localcache\\local-packages\\python312\\site-packages (from torch->signature_verification==0.1.0) (1.13.1)\n",
      "Requirement already satisfied: mpmath<1.4,>=1.1.0 in c:\\users\\legion\\appdata\\local\\packages\\pythonsoftwarefoundation.python.3.12_qbz5n2kfra8p0\\localcache\\local-packages\\python312\\site-packages (from sympy==1.13.1->torch->signature_verification==0.1.0) (1.3.0)\n",
      "Requirement already satisfied: six>=1.5 in c:\\users\\legion\\appdata\\local\\packages\\pythonsoftwarefoundation.python.3.12_qbz5n2kfra8p0\\localcache\\local-packages\\python312\\site-packages (from python-dateutil>=2.7->matplotlib->signature_verification==0.1.0) (1.16.0)\n",
      "Requirement already satisfied: MarkupSafe>=2.0 in c:\\users\\legion\\appdata\\local\\packages\\pythonsoftwarefoundation.python.3.12_qbz5n2kfra8p0\\localcache\\local-packages\\python312\\site-packages (from jinja2->torch->signature_verification==0.1.0) (2.1.5)\n",
      "Building wheels for collected packages: signature_verification\n",
      "  Building editable for signature_verification (pyproject.toml): started\n",
      "  Building editable for signature_verification (pyproject.toml): finished with status 'done'\n",
      "  Created wheel for signature_verification: filename=signature_verification-0.1.0-0.editable-py3-none-any.whl size=3214 sha256=1c939c8f1a22ef0dabcc978ef3df7f63f0d1cb58674cf96f1ac18d3511abc24f\n",
      "  Stored in directory: C:\\Users\\LEGION\\AppData\\Local\\Temp\\pip-ephem-wheel-cache-5qob8tt1\\wheels\\5b\\34\\0c\\60cb639715e3a8fa5db095ef0d358cc994882f204ea317b614\n",
      "Successfully built signature_verification\n",
      "Installing collected packages: signature_verification\n",
      "  Attempting uninstall: signature_verification\n",
      "    Found existing installation: signature_verification 0.1.0\n",
      "    Uninstalling signature_verification-0.1.0:\n",
      "      Successfully uninstalled signature_verification-0.1.0\n",
      "Successfully installed signature_verification-0.1.0\n"
     ]
    },
    {
     "name": "stderr",
     "output_type": "stream",
     "text": [
      "\n",
      "[notice] A new release of pip is available: 24.3.1 -> 25.1\n",
      "[notice] To update, run: C:\\Users\\LEGION\\AppData\\Local\\Microsoft\\WindowsApps\\PythonSoftwareFoundation.Python.3.12_qbz5n2kfra8p0\\python.exe -m pip install --upgrade pip\n"
     ]
    },
    {
     "name": "stdout",
     "output_type": "stream",
     "text": [
      "Package installed and imported successfully!\n"
     ]
    }
   ],
   "source": [
    "%cd ..\n",
    "\n",
    "# Cài đặt package\n",
    "!pip install -e .\n",
    "\n",
    "# Import module\n",
    "from utils.helpers import load_config\n",
    "from losses.contrastive_loss import contrastiveLoss\n",
    "from models.siamese_network import SiameseNetwork\n",
    "from datasets import siamese_dataloader\n",
    "\n",
    "\n",
    "print(\"Package installed and imported successfully!\")"
   ]
  },
  {
   "cell_type": "code",
   "execution_count": 2,
   "id": "0e852e1b",
   "metadata": {},
   "outputs": [],
   "source": [
    "# pip install pyyaml"
   ]
  },
  {
   "cell_type": "code",
   "execution_count": 3,
   "id": "930341a4",
   "metadata": {},
   "outputs": [],
   "source": [
    "import os\n",
    "import yaml\n",
    "import torch\n",
    "import torch.nn as nn\n",
    "import torch.optim as optim\n",
    "import torchvision.transforms as transforms\n",
    "import cv2\n",
    "import importlib\n",
    "import numpy as np\n",
    "import matplotlib.pyplot as plt\n",
    "from sklearn.metrics import accuracy_score, classification_report, confusion_matrix"
   ]
  },
  {
   "cell_type": "code",
   "execution_count": 4,
   "id": "032a05e3",
   "metadata": {},
   "outputs": [
    {
     "name": "stdout",
     "output_type": "stream",
     "text": [
      "{'model': {'backbone': 'resnet34', 'feature_dim': 512}, 'training': {'batch_size': 32, 'learning_rate': 0.001, 'optimizer': 'adam', 'num_epochs': 50, 'margin': 0.5, 'scheduler': 'cosine'}, 'dataset': {'original_data_path': 'D:\\\\Study\\\\School\\\\Phương pháp nghiên cứu\\\\Deep_Learning-Based_Signature_Forgery_Detection_for_Personal_Identity_Authentication\\\\data\\\\full_org', 'forgeries_data_path': 'D:\\\\Study\\\\School\\\\Phương pháp nghiên cứu\\\\Deep_Learning-Based_Signature_Forgery_Detection_for_Personal_Identity_Authentication\\\\data\\\\full_forg', 'input_size': [220, 150]}, 'device': 'cuda', 'logging': {'log_dir': './logs/', 'checkpoint_dir': './checkpoints/', 'save_freq': 5}}\n"
     ]
    }
   ],
   "source": [
    "#Nayf ae xem sửa thửthử\n",
    "config = load_config(r'D:\\Study\\School\\Phương pháp nghiên cứu\\Deep_Learning-Based_Signature_Forgery_Detection_for_Personal_Identity_Authentication\\configs\\config_siamese.yaml')\n",
    "print(config)"
   ]
  },
  {
   "cell_type": "code",
   "execution_count": null,
   "id": "d83c98a8",
   "metadata": {},
   "outputs": [
    {
     "name": "stdout",
     "output_type": "stream",
     "text": [
      "Tổng số cặp ảnh: 0\n",
      "Số cặp positive (1): 0\n",
      "Số cặp negative (0): 0\n",
      "Số lượng mẫu tập train: 0\n",
      "Số lượng mẫu tập validation: 0\n",
      "0\n",
      "0\n"
     ]
    }
   ],
   "source": [
    "#importlib.reload(siamese_dataloader)\n",
    "train_loader, val_loader = siamese_dataloader.create_dataloaders(config)\n",
    "print(len(train_loader.dataset))\n",
    "print(len(val_loader.dataset))"
   ]
  },
  {
   "cell_type": "code",
   "execution_count": 7,
   "id": "7c0b8fd8",
   "metadata": {},
   "outputs": [
    {
     "ename": "TypeError",
     "evalue": "SiameseNetwork.__init__() got an unexpected keyword argument 'backbone'",
     "output_type": "error",
     "traceback": [
      "\u001b[31m---------------------------------------------------------------------------\u001b[39m",
      "\u001b[31mTypeError\u001b[39m                                 Traceback (most recent call last)",
      "\u001b[36mCell\u001b[39m\u001b[36m \u001b[39m\u001b[32mIn[7]\u001b[39m\u001b[32m, line 1\u001b[39m\n\u001b[32m----> \u001b[39m\u001b[32m1\u001b[39m model = \u001b[43mSiameseNetwork\u001b[49m\u001b[43m(\u001b[49m\n\u001b[32m      2\u001b[39m \u001b[43m    \u001b[49m\u001b[43mbackbone\u001b[49m\u001b[43m=\u001b[49m\u001b[43mconfig\u001b[49m\u001b[43m[\u001b[49m\u001b[33;43m'\u001b[39;49m\u001b[33;43mmodel\u001b[39;49m\u001b[33;43m'\u001b[39;49m\u001b[43m]\u001b[49m\u001b[43m[\u001b[49m\u001b[33;43m'\u001b[39;49m\u001b[33;43mbackbone\u001b[39;49m\u001b[33;43m'\u001b[39;49m\u001b[43m]\u001b[49m\u001b[43m,\u001b[49m\n\u001b[32m      3\u001b[39m \u001b[43m    \u001b[49m\u001b[43mfeature_dim\u001b[49m\u001b[43m=\u001b[49m\u001b[43mconfig\u001b[49m\u001b[43m[\u001b[49m\u001b[33;43m'\u001b[39;49m\u001b[33;43mmodel\u001b[39;49m\u001b[33;43m'\u001b[39;49m\u001b[43m]\u001b[49m\u001b[43m[\u001b[49m\u001b[33;43m'\u001b[39;49m\u001b[33;43mfeature_dim\u001b[39;49m\u001b[33;43m'\u001b[39;49m\u001b[43m]\u001b[49m\n\u001b[32m      4\u001b[39m \u001b[43m)\u001b[49m\n\u001b[32m      5\u001b[39m optimizer = optim.Adam(model.parameters(), lr=config[\u001b[33m'\u001b[39m\u001b[33mtraining\u001b[39m\u001b[33m'\u001b[39m][\u001b[33m'\u001b[39m\u001b[33mlearning_rate\u001b[39m\u001b[33m'\u001b[39m])\n\u001b[32m      6\u001b[39m device = torch.device(config[\u001b[33m'\u001b[39m\u001b[33mdevice\u001b[39m\u001b[33m'\u001b[39m] \u001b[38;5;28;01mif\u001b[39;00m torch.cuda.is_available() \u001b[38;5;28;01melse\u001b[39;00m \u001b[33m\"\u001b[39m\u001b[33mcpu\u001b[39m\u001b[33m\"\u001b[39m)\n",
      "\u001b[31mTypeError\u001b[39m: SiameseNetwork.__init__() got an unexpected keyword argument 'backbone'"
     ]
    }
   ],
   "source": [
    "model = SiameseNetwork(\n",
    "    backbone=config['model']['backbone'],\n",
    "    feature_dim=config['model']['feature_dim']\n",
    ")\n",
    "optimizer = optim.Adam(model.parameters(), lr=config['training']['learning_rate'])\n",
    "device = torch.device(config['device'] if torch.cuda.is_available() else \"cpu\")\n",
    "model.to(device)"
   ]
  },
  {
   "cell_type": "code",
   "execution_count": null,
   "id": "ebb3217e",
   "metadata": {},
   "outputs": [],
   "source": [
    "#Train kiểu kiểu như vầy ae cứ xem tham thảo\n",
    "\n",
    "num_epochs = config['train']['num_epochs']\n",
    "checkpoint_dir = config['logging']['checkpoint_dir']\n",
    "save_freq = config['logging']['save_freq']\n",
    "\n",
    "# Tạo thư mục lưu checkpoint nếu chưa có\n",
    "os.makedirs(checkpoint_dir, exist_ok=True)\n",
    "\n",
    "for epoch in range(1, num_epochs + 1):\n",
    "    model.train()\n",
    "    running_loss = 0.0\n",
    "\n",
    "    for (img1, img2), labels in train_loader:\n",
    "        img1, img2, labels = img1.to(device), img2.to(device), labels.to(device)\n",
    "\n",
    "        output1 = model(img1)\n",
    "        output2 = model(img2)\n",
    "\n",
    "        loss = contrastiveLoss(output1, output2, labels, margin=config['loss']['margin'])\n",
    "\n",
    "        optimizer.zero_grad()\n",
    "        loss.backward()\n",
    "        optimizer.step()\n",
    "\n",
    "        running_loss += loss.item()\n",
    "\n",
    "    avg_loss = running_loss / len(train_loader)\n",
    "    print(f\"Epoch [{epoch}/{num_epochs}] - Loss: {avg_loss:.4f}\")\n",
    "\n",
    "    if epoch % save_freq == 0:\n",
    "        checkpoint_path = os.path.join(checkpoint_dir, f'checkpoint_epoch_{epoch}.pth')\n",
    "        torch.save({\n",
    "            'epoch': epoch,\n",
    "            'model_state_dict': model.state_dict(),\n",
    "            'optimizer_state_dict': optimizer.state_dict(),\n",
    "            'loss': avg_loss,\n",
    "        }, checkpoint_path)\n",
    "        print(f\"Checkpoint saved at {checkpoint_path}\")"
   ]
  }
 ],
 "metadata": {
  "kernelspec": {
   "display_name": "Python 3",
   "language": "python",
   "name": "python3"
  },
  "language_info": {
   "codemirror_mode": {
    "name": "ipython",
    "version": 3
   },
   "file_extension": ".py",
   "mimetype": "text/x-python",
   "name": "python",
   "nbconvert_exporter": "python",
   "pygments_lexer": "ipython3",
   "version": "3.11.4"
  }
 },
 "nbformat": 4,
 "nbformat_minor": 5
}
